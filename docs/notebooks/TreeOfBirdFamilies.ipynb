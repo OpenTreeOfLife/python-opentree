{
 "cells": [
  {
   "cell_type": "markdown",
   "metadata": {},
   "source": [
    "# How to get an updated tree of all bird families from Open Tree of Life\n",
    "In order to run these examples, you need to have installed the OpenTree package. Please see instructions at https://github.com/OpenTreeOfLife/python-opentree/blob/ms/INSTALL.md\n",
    "\n",
    "Currently (Nov 2020) this tutorial requires a newer version of python-opentree than is available on PyPi, please follow the instuctions for a local installation."
   ]
  },
  {
   "cell_type": "code",
   "execution_count": 1,
   "metadata": {},
   "outputs": [],
   "source": [
    "from opentree import OT, taxonomy_helpers, util"
   ]
  },
  {
   "cell_type": "markdown",
   "metadata": {},
   "source": [
    "To avoid typographical errors and confusing synonomies, OpenTree relies on unique identifiers to refer to taxa. These can be found by searching on the website, or "
   ]
  },
  {
   "cell_type": "code",
   "execution_count": 2,
   "metadata": {},
   "outputs": [],
   "source": [
    "aves = OT.get_ottid_from_name('Aves')"
   ]
  },
  {
   "cell_type": "code",
   "execution_count": 3,
   "metadata": {},
   "outputs": [
    {
     "data": {
      "text/plain": [
       "81461"
      ]
     },
     "execution_count": 3,
     "metadata": {},
     "output_type": "execute_result"
    }
   ],
   "source": [
    "aves"
   ]
  },
  {
   "cell_type": "markdown",
   "metadata": {},
   "source": [
    "You can see more about this taxon at https://tree.opentreeoflife.org/taxonomy/browse?name=81461"
   ]
  },
  {
   "cell_type": "markdown",
   "metadata": {},
   "source": [
    "## Fuzzy matching\n",
    "Using get_ottid_from_name requires an exact string match - if nothing is returned for your taxon of interest, you can try approximate matches."
   ]
  },
  {
   "cell_type": "code",
   "execution_count": 4,
   "metadata": {},
   "outputs": [
    {
     "name": "stderr",
     "output_type": "stream",
     "text": [
      "Exact match to name Avez not found in taxonomy.\n",
      "Try using `resp = OT.tnrs_match([\"Avez\"], do_approximate_matching=True)`\n",
      "\n",
      "                                                   resp.response_dict \n",
      "\n",
      "                                        to find fuzzy matches\n"
     ]
    }
   ],
   "source": [
    "typo = OT.get_ottid_from_name('Avez')"
   ]
  },
  {
   "cell_type": "code",
   "execution_count": 5,
   "metadata": {},
   "outputs": [
    {
     "data": {
      "text/plain": [
       "{'context': 'All life',\n",
       " 'governing_code': 'undefined',\n",
       " 'includes_approximate_matches': True,\n",
       " 'includes_deprecated_taxa': False,\n",
       " 'includes_suppressed_names': False,\n",
       " 'matched_names': ['avez'],\n",
       " 'results': [{'matches': [{'is_approximate_match': True,\n",
       "     'is_synonym': False,\n",
       "     'matched_name': 'Aves',\n",
       "     'nomenclature_code': 'ICZN',\n",
       "     'score': 0.75,\n",
       "     'search_string': 'avez',\n",
       "     'taxon': {'flags': [],\n",
       "      'is_suppressed': False,\n",
       "      'is_suppressed_from_synth': False,\n",
       "      'name': 'Aves',\n",
       "      'ott_id': 81461,\n",
       "      'rank': 'class',\n",
       "      'source': 'ott3.2draft9',\n",
       "      'synonyms': ['avian', 'Lophorus', 'Lepturus', 'Phyllomanes'],\n",
       "      'tax_sources': ['ncbi:8782', 'worms:1836', 'gbif:212', 'irmng:1142'],\n",
       "      'unique_name': 'Aves'}}],\n",
       "   'name': 'avez'}],\n",
       " 'taxonomy': {'author': 'open tree of life project',\n",
       "  'name': 'ott',\n",
       "  'source': 'ott3.2draft9',\n",
       "  'version': '3.2',\n",
       "  'weburl': 'https://tree.opentreeoflife.org/about/taxonomy-version/ott3.2'},\n",
       " 'unambiguous_names': ['avez'],\n",
       " 'unmatched_names': []}"
      ]
     },
     "execution_count": 5,
     "metadata": {},
     "output_type": "execute_result"
    }
   ],
   "source": [
    "res = OT.tnrs_match(['avez'], do_approximate_matching=True)\n",
    "res.response_dict"
   ]
  },
  {
   "cell_type": "markdown",
   "metadata": {},
   "source": [
    "# Getting a list of taxa in a group by rank\n",
    "While the OpenTree taxonomy is not rank focused, it does track rank information from component taxonomies, which we can use to capture families. The fastest way to access these data is to download the OpenTree taxonomy directly."
   ]
  },
  {
   "cell_type": "code",
   "execution_count": 8,
   "metadata": {},
   "outputs": [
    {
     "data": {
      "text/plain": [
       "'../../ott3.2'"
      ]
     },
     "execution_count": 8,
     "metadata": {},
     "output_type": "execute_result"
    }
   ],
   "source": [
    "# You can download the taxonomy by going to https://tree.opentreeoflife.org/about/taxonomy-version/ott3.2\n",
    "# or by running these commands:\n",
    "# you can set 'loc' to wherever you wany to store the taxonomy files.\n",
    "taxonomy_helpers.download_taxonomy_file(version = 3.2, loc = '../..')"
   ]
  },
  {
   "cell_type": "code",
   "execution_count": 9,
   "metadata": {
    "scrolled": true
   },
   "outputs": [
    {
     "name": "stdout",
     "output_type": "stream",
     "text": [
      "Gathering ott ids from group with ott id 81461.\n"
     ]
    }
   ],
   "source": [
    "bird_families = taxonomy_helpers.get_ott_ids_group_and_rank(group_ott_id=aves, \n",
    "                                                            rank='family', \n",
    "                                                            taxonomy_file='../../ott3.2/taxonomy.tsv')\n",
    "# By default this query prunes taxa that are not included in synth\n",
    "# (usually bc they are extinct and we have no phylogentic input information)\n",
    "# To get a list of taxa including those excluded from synth, run the same command with synth_only = False\n",
    "#e.g.\n",
    "# bird_families = taxonomy_helpers.get_ott_ids_group_and_rank(group_ott_id=aves, \n",
    "#                                                            rank='family', \n",
    "#                                                            synth_only = False,\n",
    "#                                                            taxonomy_file='../../ott3.2/taxonomy.tsv')"
   ]
  },
  {
   "cell_type": "code",
   "execution_count": 10,
   "metadata": {},
   "outputs": [
    {
     "data": {
      "text/plain": [
       "196"
      ]
     },
     "execution_count": 10,
     "metadata": {},
     "output_type": "execute_result"
    }
   ],
   "source": [
    "len(bird_families)"
   ]
  },
  {
   "cell_type": "markdown",
   "metadata": {},
   "source": [
    "# Requesting a  tree\n",
    "To get the relationships between these taxa we request a labelled induced synth tree"
   ]
  },
  {
   "cell_type": "code",
   "execution_count": 12,
   "metadata": {
    "scrolled": false
   },
   "outputs": [],
   "source": [
    "ret = taxonomy_helpers.labelled_induced_synth(ott_ids = bird_families, label_format=\"name_and_id\")\n"
   ]
  },
  {
   "cell_type": "markdown",
   "metadata": {},
   "source": [
    "This return value packages togther a bunch of information in a dictionary. We can see what the keys are:"
   ]
  },
  {
   "cell_type": "code",
   "execution_count": 14,
   "metadata": {},
   "outputs": [
    {
     "data": {
      "text/plain": [
       "dict_keys(['labelled_tree', 'original_tree', 'unknown_ids', 'non-monophyletic_taxa', 'supporting_studies', 'label_map'])"
      ]
     },
     "execution_count": 14,
     "metadata": {},
     "output_type": "execute_result"
    }
   ],
   "source": [
    "ret.keys()"
   ]
  },
  {
   "cell_type": "markdown",
   "metadata": {},
   "source": [
    "The labelled tree is the central output. It is a dendropy Tree object."
   ]
  },
  {
   "cell_type": "code",
   "execution_count": 15,
   "metadata": {},
   "outputs": [
    {
     "name": "stdout",
     "output_type": "stream",
     "text": [
      "                       /---++ MRCA of taxa in Sittidae_ott603925               \n",
      "                       |                                                       \n",
      "                      /+ /--- MRCA of taxa in Turdidae_ott96286                \n",
      "                      ||/+                                                     \n",
      "                      |\\+\\+++ Rhabdornithidae ott814752                        \n",
      "                 /----+ |                                                      \n",
      "                 |    | \\---- Cinclidae ott496027                              \n",
      "                 |    |                                                        \n",
      "                 |    |   /++ Mohoidae ott661149                               \n",
      "                 |    \\---+                                                    \n",
      "               /-+        \\-+ Hypocolidae ott294593                            \n",
      "               | |                                                             \n",
      "               | | /--------+ Dicaeidae ott746744                              \n",
      "               | | |                                                           \n",
      "               | | |        / MRCA of taxa in Estrildidae_ott507124            \n",
      "               | | | /------+                                                  \n",
      "               | \\++ |      \\ MRCA of taxa in Ploceidae_ott1031977             \n",
      "               |   |++                                                         \n",
      "               |   |||   /--+ MRCA of taxa in Passerellidae_ott5846360         \n",
      "               |   ||| /++                                                     \n",
      "               |   \\+\\++ \\+++ Icteridae ott640561                              \n",
      "               |    |  |                                                       \n",
      "               |    |  \\----+ MRCA of taxa in Motacillidae_ott28338            \n",
      "               |    |                                                          \n",
      "              /+    \\-------- Irenidae ott647192                               \n",
      "              ||                                                               \n",
      "              ||          /-+ Leiothrichidae ott3599375                        \n",
      "              ||      /++++                                                    \n",
      "              ||      |   +++ MRCA of taxa in Pellorneidae_ott3599857          \n",
      "              ||     /+                                                        \n",
      "              ||     ||    /+ MRCA of taxa in Cettiidae_ott5846361             \n",
      "              ||     ||+++++                                                   \n",
      "              ||    +++    \\- Scotocercidae ott6152180                         \n",
      "              ||    |||                                                        \n",
      "             /+|    ||\\------ Phylloscopidae ott3599681                        \n",
      "             ||| ++++|                                                         \n",
      "             ||| |  |\\------- Hirundinidae ott897681                           \n",
      "             |||++  |                                                          \n",
      "             ||| |  \\-------- MRCA of taxa in Bernieridae_ott5846365           \n",
      "             ||+ |                                                             \n",
      "             ||| \\----------+ Alaudidae ott662954                              \n",
      "             +||                                                               \n",
      "             ||\\------------+ Stenostiridae ott513100                          \n",
      "             ||                                                                \n",
      "             ||             / Petroicidae ott659                               \n",
      "            /+\\-------------+                                                  \n",
      "            ||              \\ MRCA of taxa in Picathartidae_ott176465          \n",
      "            ||                                                                 \n",
      "            ||--------------- Melanocharitidae ott176450                       \n",
      "            ||                                                                 \n",
      "            |\\-------------++ Callaeidae ott635218                             \n",
      "            |                                                                  \n",
      "            |              /+ MRCA of taxa in Laniidae_ott617800               \n",
      "            |             /+                                                   \n",
      "           /+             |\\- Monarchidae ott817406                            \n",
      "           ||           /++                                                    \n",
      "           ||           | | / Paradisaeidae ott1058847                         \n",
      "           ||          /+ +++                                                  \n",
      "           ||          ||   \\ Corcoracidae ott1092341                          \n",
      "           ||          ||                                                      \n",
      "           ||         /+\\---- Rhipiduridae ott3599868                          \n",
      "           ||         ||                                                       \n",
      "           ||         ||  /++ Malaconotidae ott331956                          \n",
      "           +|         ||/++                                                    \n",
      "           |\\---------+\\+ +++ MRCA of taxa in Vangidae_ott242571               \n",
      "           |          | |                                                      \n",
      "           |          | \\---+ MRCA of taxa in Artamidae_ott464862              \n",
      "           |          |                                                        \n",
      "           |          |   +++ Vireonidae ott604017                             \n",
      "          /+          \\-+++                                                    \n",
      "          ||              \\-- Paramythiidae ott1066408                         \n",
      "          ||                                                                   \n",
      "          ||----------------+ Orthonychidae ott488749                          \n",
      "          ||                                                                   \n",
      "         /+|              /++ Pardalotidae ott1093579                          \n",
      "         |||              +                                                    \n",
      "         ||\\--------------+-- Dasyornithidae ott3599646                        \n",
      "         ||               |                                                    \n",
      "        /+|               \\-- Maluridae ott901832                              \n",
      "        |||                                                                    \n",
      "        ||\\-----------------+ Climacteridae ott73972                           \n",
      "        ||                                                                     \n",
      "        |\\------------------- Menuridae ott73954                               \n",
      "        |                                                                      \n",
      "        +               /++++ MRCA of taxa in Dendrocolaptidae_ott155232       \n",
      "        |               +                                                      \n",
      "        |              /+--++ Conopophagidae ott683062                         \n",
      "        |              ||                                                      \n",
      "        |             /+\\---- MRCA of taxa in Thamnophilidae_ott799152         \n",
      "        |             ||                                                       \n",
      "        |-------------+\\----+ MRCA of taxa in Pipridae_ott881043               \n",
      "       /+             |                                                        \n",
      "       ||             |   /-- Pittidae ott44873                                \n",
      "       ||             \\---+                                                    \n",
      "       ||                 +++ Philepittidae ott991709                          \n",
      "       ||                                                                      \n",
      "      /+|-------------------- Acanthisittidae ott901940                        \n",
      "      |||                                                                      \n",
      "      ||\\-------------------- Colluricinclidae ott3599854                      \n",
      "      ||                                                                       \n",
      "      +|               /+++++ MRCA of taxa in Loriidae_ott63967                \n",
      "      |\\--------------++                                                       \n",
      "      |                \\----- Cacatuidae ott512919                             \n",
      "     /+                                                                        \n",
      "     ||---------------------+ Falconidae ott212186                             \n",
      "     ||                                                                        \n",
      "     |\\---------------------+ Cariamidae ott966325                             \n",
      "     |                                                                         \n",
      "     |                      / Strigidae ott1028828                             \n",
      "     |               /------+                                                  \n",
      "     |               |      \\ Tytonidae ott402457                              \n",
      "     |               |                                                         \n",
      "     |               |      / Bucerotidae ott489457                            \n",
      "     |               |    /-+                                                  \n",
      "     |               |    | \\ Bucorvidae ott991314                             \n",
      "    /+               |  /-+                                                    \n",
      "    ||               |  | | / Phoeniculidae ott834689                          \n",
      "    ||               |  | |/+                                                  \n",
      "    ||               |  | \\+\\ Rhinopomastidae ott554656                        \n",
      "    ||               |  |  |                                                   \n",
      "    ||               |  |  \\- Upupidae ott291860                               \n",
      "    ||               |  |                                                      \n",
      "    ||               |  |   / Picidae ott1020138                               \n",
      "    ||               |  | /-+                                                  \n",
      "    ||               | /+ | \\ Indicatoridae ott467845                          \n",
      "    ||               | || +                                                    \n",
      "    ||               | || |/+ MRCA of taxa in Lybiidae_ott815710               \n",
      "    |\\---------------+ || |+                                                   \n",
      "    |                | ||-+\\- Megalaimidae ott291635                           \n",
      "    |                | || |                                                    \n",
      "    |                | || | / Bucconidae ott483802                             \n",
      "    |                | || \\-+                                                  \n",
      "    |                | ||   \\ Galbulidae ott484892                             \n",
      "    |                | |+                                                      \n",
      "    |                | || /++ Cerylidae ott1040908                             \n",
      "    +                |/+| +                                                    \n",
      "    |                ||||/+-- Momotidae ott489432                              \n",
      "    |                ||||||                                                    \n",
      "    |                |||\\+\\-- Todidae ott815966                                \n",
      "    |                ||| |                                                     \n",
      "    |                ||| | /- Meropidae ott815968                              \n",
      "    |                |+| \\-+                                                   \n",
      "    |                |||   |/ Coraciidae ott244696                             \n",
      "    |                |||   \\+                                                  \n",
      "    |                |||    \\ Brachypteraciidae ott483798                      \n",
      "    |                \\+|                                                       \n",
      "    |                 |\\----+ Trogonidae ott539129                             \n",
      "   /+                 |                                                        \n",
      "   ||                 |------ Leptosomidae ott897861                           \n",
      "   ||                 |                                                        \n",
      "   ||                 \\-----+ Coliidae ott815971                               \n",
      "   ||                                                                          \n",
      "   ||                       / Accipitridae ott1036185                          \n",
      "   ||                      /+                                                  \n",
      "   ||                     /+\\ Pandionidae ott3600978                           \n",
      "   ||                     ||                                                   \n",
      "   ||---------------------+\\- Sagittariidae _family in Opisthokonta_ ott1036188\n",
      "   ||                     |                                                    \n",
      "   ||                     \\-- Cathartidae ott363021                            \n",
      "   ||                                                                          \n",
      "   |\\-----------------------+ Opisthocomidae ott928357                         \n",
      "   |                                                                           \n",
      "   |                        / Jacanidae ott331999                              \n",
      "   |                       /+                                                  \n",
      "   |                       |\\ Rostratulidae ott5274                            \n",
      "   |                      /+                                                   \n",
      "   |                      ||/ Pedionomidae ott163951                           \n",
      "   |                    /-+\\+                                                  \n",
      "   |                    | | \\ Thinocoridae ott628493                           \n",
      "   |                    | |                                                    \n",
      "   |                    | \\-- Scolopacidae ott887699                           \n",
      "   |                    +                                                      \n",
      "   |                    |   / MRCA of taxa in Alcidae_ott855478                \n",
      "   |                    | /++                                                  \n",
      "  /+                    |/+ \\ Stercorariidae ott168297                         \n",
      "  ||                    |||                                                    \n",
      "  ||                    |+\\-- Dromadidae ott960242                             \n",
      "  ||                   /+|                                                     \n",
      "  ||                   ||\\--- Turnicidae ott810768                             \n",
      "  ||                   ||                                                      \n",
      "  ||                   ||  /+ Haematopodidae ott675126                         \n",
      "  ||                   ||+++                                                   \n",
      "  ||                   ||  \\- Recurvirostridae ott703807                       \n",
      "  ||                  /++                                                      \n",
      "  ||                  |||  /+ Chionididae ott738518                            \n",
      "  ||                  ||\\--+                                                   \n",
      "  ||                  ||   \\- Burhinidae ott261310                             \n",
      "  ||                  ||                                                       \n",
      "  ||                  ||   /+ Podicipedidae ott452459                          \n",
      "  ||                  |\\---+                                                   \n",
      "  ||                  |    \\+ Phoenicopteridae ott472436                       \n",
      "  ||                  |                                                        \n",
      "  ||                  |     / Phalacrocoracidae ott969838                      \n",
      "  ||                  |    /+                                                  \n",
      "  ||                  |   /+\\ Anhingidae ott443646                             \n",
      "  ||                  |   ||                                                   \n",
      "  ||                  |  /+\\- Sulidae ott452462                                \n",
      "  ||                  |  ||                                                    \n",
      "  ||                  |  |\\-- Fregatidae ott452471                             \n",
      "  ||                  |  |                                                     \n",
      "  ||                  | /+/-- Ardeidae ott609781                               \n",
      "  +\\------------------+ |||                                                    \n",
      "  |                   | ||+ / Pelecanidae ott452465                            \n",
      "  |                   | |||/+                                                  \n",
      "  |                   | |||+\\ Balaenicipitidae ott597796                       \n",
      "  |                   | +\\+|                                                   \n",
      "  |                   | | |\\- Scopidae ott1057476                              \n",
      "  |                   | | |                                                    \n",
      "  |                   | | \\-- Threskiornithidae ott480157                      \n",
      "  |                   | |                                                      \n",
      "  |                   |/+---- Ciconiidae ott363013                             \n",
      "  |                   |||                                                      \n",
      "  |                   |||   / Procellariidae ott1028841                        \n",
      "  |                   ||| /++                                                  \n",
      "  |                   |||++ \\ Pelecanoididae ott904487                         \n",
      "  |                   |+| |                                                    \n",
      "  |                   ||+ \\-- Diomedeidae ott85277                             \n",
      "  |                   |||                                                      \n",
      "  |                   ||\\---+ Spheniscidae ott494367                           \n",
      "  |                   +|                                                       \n",
      "  |                   |\\----+ Gaviidae ott928350                               \n",
      "  |                   |                                                        \n",
      "  |                   |     / Rhynochetidae ott86678                           \n",
      " /+                   |    /+                                                  \n",
      " ||                   \\----+\\ Eurypygidae ott86683                             \n",
      " ||                        |                                                   \n",
      " ||                        \\- Phaethontidae ott452467                          \n",
      " ||                                                                            \n",
      " ||                       /++ Heliornithidae ott440606                         \n",
      " ||-----------------------+                                                    \n",
      " ||                       |/- Psophiidae ott915652                             \n",
      " ||                       \\+                                                   \n",
      " ||                        |/ Gruidae ott446460                                \n",
      " ||                        \\+                                                  \n",
      " ||                         \\ Aramidae ott915649                               \n",
      " ||                                                                            \n",
      " ||                   /------ Otididae ott966318                               \n",
      " ||                   |                                                        \n",
      " ||                  /+/+++++ Coccyzidae ott1041414                            \n",
      " ||                  ||+                                                       \n",
      " ||                  ||\\----+ Centropidae ott1040900                           \n",
      " ||                  |+                                                        \n",
      " ||                 /+|     / Crotophagidae ott1041423                         \n",
      "/+|                 ||\\-----+                                                  \n",
      "|||                 ||      \\ MRCA of taxa in Neomorphidae_ott173050           \n",
      "||\\-----------------+|                                                         \n",
      "||                  |\\------+ Musophagidae ott539141                           \n",
      "||                  |                                                          \n",
      "||                  | /++++++ Raphidae ott543770                               \n",
      "||                  \\-+                                                        \n",
      "||                    |     / Pteroclidae ott244699                            \n",
      "||                    \\-----+                                                  \n",
      "||                          \\ Mesitornithidae ott966320                        \n",
      "||                                                                             \n",
      "||                          / Trochilidae ott810751                            \n",
      "||                         /+                                                  \n",
      "||                        /+\\ Apodidae ott609796                               \n",
      "||                        ||                                                   \n",
      "||                        +\\- Aegothelidae ott540031                           \n",
      "||                        |                                                    \n",
      "+|                       /+++ Podargidae ott313130                             \n",
      "||                       ||                                                    \n",
      "||                       || / Nyctibiidae ott178243                            \n",
      "|\\-----------------------+\\-+                                                  \n",
      "|                        |  \\ Steatornithidae ott701556                        \n",
      "|                        |                                                     \n",
      "|                        |  / Caprimulgidae ott275127                          \n",
      "|                        \\--+                                                  \n",
      "|                           \\ Eurostopodidae ott726316                         \n",
      "|                                                                              \n",
      "|                         /++ Odontophoridae ott594197                         \n",
      "|                         +                                                    \n",
      "|                       +++-- Numididae ott684043                              \n",
      "|                       | |                                                    \n",
      "|                      /+ \\-- Cracidae ott109893                               \n",
      "|                      ||                                                      \n",
      "|                      |\\---- Sylviornithidae ott3596121                       \n",
      "+----------------------+                                                       \n",
      "|                      |   /- Anatidae ott765193                               \n",
      "|                      |  /+                                                   \n",
      "|                      \\--+\\+ Anseranatidae ott732899                          \n",
      "|                         |                                                    \n",
      "|                         \\-- Anhimidae ott241842                              \n",
      "|                                                                              \n",
      "|                          /- Aepyornithidae ott747911                         \n",
      "|                         /+                                                   \n",
      "|                         |\\+ Apterygidae ott241839                            \n",
      "|                        /+                                                    \n",
      "|                        || / Casuariidae ott589161                            \n",
      "|                        |\\-+                                                  \n",
      "|                       /+  \\ Dromaiidae ott283194                             \n",
      "|                       ||                                                     \n",
      "|                       ||/++ Tinamidae ott292469                              \n",
      "|                       +\\+                                                    \n",
      "|                       | +++ Dinornithidae ott816656                          \n",
      "\\-----------------------+                                                      \n",
      "                        |---+ Rheidae ott745449                                \n",
      "                        |                                                      \n",
      "                        \\---- Struthionidae ott857849                          \n",
      "                                                                               \n",
      "                                                                               \n"
     ]
    }
   ],
   "source": [
    "ret['labelled_tree'].print_plot()\n"
   ]
  },
  {
   "cell_type": "code",
   "execution_count": 12,
   "metadata": {},
   "outputs": [],
   "source": [
    "ret['labelled_tree'].write(path=\"labelled_bird_families.tre\", schema=\"newick\")"
   ]
  },
  {
   "cell_type": "markdown",
   "metadata": {},
   "source": [
    "But lets dig in a bit deeper. Many of these tips are named 'MRCA of taxa in' a family. Those are tips that represent familes that are not-monophyletic, according to our phylogenetic inputs. These are seomtimes called 'broken' taxa. Information about them is returned under the key 'non-monophyletic_taxa'."
   ]
  },
  {
   "cell_type": "code",
   "execution_count": 13,
   "metadata": {},
   "outputs": [
    {
     "data": {
      "text/plain": [
       "65"
      ]
     },
     "execution_count": 13,
     "metadata": {},
     "output_type": "execute_result"
    }
   ],
   "source": [
    "len(ret['non-monophyletic_taxa'])"
   ]
  },
  {
   "cell_type": "markdown",
   "metadata": {},
   "source": [
    "We can get more info on what is going on with these taxa by looking at that dictionary, e.g. for Sittidiae https://tree.opentreeoflife.org/taxonomy/browse?id=603925"
   ]
  },
  {
   "cell_type": "code",
   "execution_count": 14,
   "metadata": {},
   "outputs": [
    {
     "data": {
      "text/plain": [
       "{'flags': ['sibling_higher'],\n",
       " 'is_suppressed': False,\n",
       " 'is_suppressed_from_synth': False,\n",
       " 'name': 'Sittidae',\n",
       " 'ott_id': 603925,\n",
       " 'rank': 'family',\n",
       " 'source': 'ott3.2draft9',\n",
       " 'synonyms': ['Sitella'],\n",
       " 'tax_sources': ['ncbi:50247', 'gbif:5283', 'irmng:105095'],\n",
       " 'unique_name': 'Sittidae',\n",
       " 'tax_url': 'https://tree.opentreeoflife.org/taxonomy/browse?id=603925',\n",
       " 'synth_url': 'https://tree.opentreeoflife.org/opentree/argus/ottol@603925',\n",
       " 'MRCA_location_in_synth': 'mrcaott25638ott452744',\n",
       " 'broken_taxa_mapping_to_same_node': ['Sittidae_ott603925'],\n",
       " 'is_tip': True}"
      ]
     },
     "execution_count": 14,
     "metadata": {},
     "output_type": "execute_result"
    }
   ],
   "source": [
    "ret['non-monophyletic_taxa']['603925']"
   ]
  },
  {
   "cell_type": "markdown",
   "metadata": {},
   "source": [
    "Any taxa that are are 'broken' have at least one study in the corpus that states that the mebers of that taxon are non-monophyletic.  We can interactively view what published papers 'broke' Sittidae  https://tree.opentreeoflife.org/opentree/argus/ottol@603925"
   ]
  },
  {
   "cell_type": "code",
   "execution_count": 15,
   "metadata": {},
   "outputs": [
    {
     "name": "stdout",
     "output_type": "stream",
     "text": [
      "https://tree.opentreeoflife.org/curator/study/view/ot_290?tab=trees&tree=tree1\n",
      "Selvatti, Alexandre Pedro, Luiz Pedreira Gonzaga, Claudia Augusta de Moraes Russo. 2015. A Paleogene origin for crown passerines and the diversification of the Oscines in the New World. Molecular Phylogenetics and Evolution 88: 1-15.\n",
      "http://dx.doi.org/10.1016/j.ympev.2015.03.018\n",
      "\n",
      "https://tree.opentreeoflife.org/curator/study/view/ot_521?tab=trees&tree=tree1\n",
      "Burleigh, J. Gordon, Rebecca T. Kimball, Edward L. Braun. 2015. Building the avian tree of life using a large-scale, sparse supermatrix. Molecular Phylogenetics and Evolution 84: 53-63\n",
      "http://dx.doi.org/10.1016/j.ympev.2014.12.003\n",
      "\n",
      "https://tree.opentreeoflife.org/curator/study/view/ot_809?tab=trees&tree=tree2\n",
      "Jetz, W., G. H. Thomas, J. B. Joy, K. Hartmann, A. O. Mooers. 2012. The global diversity of birds in space and time. Nature 491 (7424): 444-448\n",
      "http://dx.doi.org/10.1038/nature11631\n",
      "\n"
     ]
    }
   ],
   "source": [
    "#We can also accessthat information directly in python\n",
    "resp = OT.synth_subtree('ott603925').response_dict['broken']['contesting_trees'].keys()\n",
    "cites = OT.get_citations(resp)\n",
    "print(cites)"
   ]
  },
  {
   "cell_type": "markdown",
   "metadata": {},
   "source": [
    "The call also returns a dictionary of any ids that weren't found the the current tree. However, in this case that dictionary is empty, as all search ID's were found."
   ]
  },
  {
   "cell_type": "code",
   "execution_count": 16,
   "metadata": {},
   "outputs": [
    {
     "data": {
      "text/plain": [
       "{}"
      ]
     },
     "execution_count": 16,
     "metadata": {},
     "output_type": "execute_result"
    }
   ],
   "source": [
    "ret['unknown_ids']"
   ]
  },
  {
   "cell_type": "markdown",
   "metadata": {},
   "source": [
    "But we should have the rest of our 194 bird families!"
   ]
  },
  {
   "cell_type": "code",
   "execution_count": 17,
   "metadata": {},
   "outputs": [],
   "source": [
    "tips = [leaf.taxon.label for leaf in ret['labelled_tree'].leaf_node_iter()]"
   ]
  },
  {
   "cell_type": "code",
   "execution_count": 18,
   "metadata": {},
   "outputs": [
    {
     "data": {
      "text/plain": [
       "150"
      ]
     },
     "execution_count": 18,
     "metadata": {},
     "output_type": "execute_result"
    }
   ],
   "source": [
    "len(tips) "
   ]
  },
  {
   "cell_type": "markdown",
   "metadata": {},
   "source": [
    "# Why are we still missing families?\n",
    "\n",
    "Some of the non-monophyletic taxa map to internal nodes on our output tree. Input phylogenies are telling us that these 'families' are paraphyletic with respect to other families."
   ]
  },
  {
   "cell_type": "code",
   "execution_count": 19,
   "metadata": {},
   "outputs": [],
   "source": [
    "internal_node_fams = []\n",
    "for tax in ret['non-monophyletic_taxa']:\n",
    "    if ret['non-monophyletic_taxa'][tax]['is_tip'] == False:\n",
    "        internal_node_fams.append(ret['non-monophyletic_taxa'][tax]['name'])"
   ]
  },
  {
   "cell_type": "code",
   "execution_count": 20,
   "metadata": {},
   "outputs": [
    {
     "data": {
      "text/plain": [
       "45"
      ]
     },
     "execution_count": 20,
     "metadata": {},
     "output_type": "execute_result"
    }
   ],
   "source": [
    "len(internal_node_fams)"
   ]
  },
  {
   "cell_type": "code",
   "execution_count": 21,
   "metadata": {},
   "outputs": [
    {
     "name": "stdout",
     "output_type": "stream",
     "text": [
      "['Passeridae', 'Dicruridae', 'Psittacidae', 'Cotingidae', 'Meliphagidae', 'Muscicapidae', 'Pycnonotidae', 'Zosteropidae', 'Tyrannidae', 'Corvidae', 'Cuculidae', 'Sylviidae', 'Batrachostomatidae', 'Cisticolidae', 'Charadriidae', 'Locustellidae', 'Acanthizidae', 'Mimidae', 'Rallidae', 'Nectariniidae', 'Certhiidae', 'Thraupidae', 'Parulidae', 'Ptilonorhynchidae', 'Rhinocryptidae', 'Formicariidae', 'Ramphastidae', 'Paridae', 'Timaliidae', 'Sturnidae', 'Psittaculidae', 'Furnariidae', 'Bombycillidae', 'Aegithalidae', 'Megapodiidae', 'Eurylaimidae', 'Campephagidae', 'Phasianidae', 'Prionopidae', 'Fringillidae', 'Cinclosomatidae', 'Laridae', 'Alcedinidae', 'Columbidae', 'Glareolidae']\n"
     ]
    }
   ],
   "source": [
    "print(internal_node_fams)"
   ]
  },
  {
   "cell_type": "markdown",
   "metadata": {},
   "source": [
    "We have a much more accurate tree than taxonomy would have geiven us, thanks to 64 published studies informating the relationships!!"
   ]
  },
  {
   "cell_type": "code",
   "execution_count": 22,
   "metadata": {},
   "outputs": [
    {
     "data": {
      "text/plain": [
       "64"
      ]
     },
     "execution_count": 22,
     "metadata": {},
     "output_type": "execute_result"
    }
   ],
   "source": [
    "len(ret['supporting_studies'])"
   ]
  },
  {
   "cell_type": "code",
   "execution_count": 23,
   "metadata": {
    "scrolled": false
   },
   "outputs": [
    {
     "name": "stdout",
     "output_type": "stream",
     "text": [
      "https://tree.opentreeoflife.org/curator/study/view/ot_816?tab=trees&tree=tree1\n",
      "Gibson, Rosemary, Allan Baker. 2012. Multiple gene sequences resolve phylogenetic relationships in the shorebird suborder Scolopaci (Aves: Charadriiformes). Molecular Phylogenetics and Evolution 64 (1): 66-72\n",
      "http://dx.doi.org/10.1016/j.ympev.2012.03.008\n",
      "\n",
      "https://tree.opentreeoflife.org/curator/study/view/ot_425?tab=trees&tree=tree1\n",
      "Stein, R. Will, Joseph W. Brown, Arne Ø. Mooers. 2015. A molecular genetic time scale demonstrates Cretaceous origins and multiple diversification rate shifts within the order Galliformes (Aves). Molecular Phylogenetics and Evolution 92: 155-164\n",
      "http://dx.doi.org/10.1016/j.ympev.2015.06.005\n",
      "\n",
      "https://tree.opentreeoflife.org/curator/study/view/ot_809?tab=trees&tree=tree2\n",
      "Jetz, W., G. H. Thomas, J. B. Joy, K. Hartmann, A. O. Mooers. 2012. The global diversity of birds in space and time. Nature 491 (7424): 444-448\n",
      "http://dx.doi.org/10.1038/nature11631\n",
      "\n",
      "https://tree.opentreeoflife.org/curator/study/view/ot_521?tab=trees&tree=tree1\n",
      "Burleigh, J. Gordon, Rebecca T. Kimball, Edward L. Braun. 2015. Building the avian tree of life using a large-scale, sparse supermatrix. Molecular Phylogenetics and Evolution 84: 53-63\n",
      "http://dx.doi.org/10.1016/j.ympev.2014.12.003\n",
      "\n",
      "https://tree.opentreeoflife.org/curator/study/view/ot_156?tab=trees&tree=tree1\n",
      "Moyle, Robert G. 2004. Phylogenetics of barbets (Aves: Piciformes) based on nuclear and mitochondrial DNA sequence data. Molecular Phylogenetics and Evolution 30 (1): 187-200.\n",
      "http://dx.doi.org/10.1016/s1055-7903(03)00179-9\n",
      "\n",
      "https://tree.opentreeoflife.org/curator/study/view/pg_2913?tab=trees&tree=tree6741\n",
      "Price, Trevor D., Daniel M. Hooper, Caitlyn D. Buchanan, Ulf S. Johansson, D. Thomas Tietze, Per Alström, Urban Olsson, Mousumi Ghosh-Harihar, Farah Ishtiaq, Sandeep K. Gupta, Jochen Martens, Bettina Harr, Pratap Singh, Dhananjai Mohan. 2014. Niche filling slows the diversification of Himalayan songbirds. Nature 509: 222-225.\n",
      "http://dx.doi.org/10.1038/nature13272\n",
      "\n",
      "https://tree.opentreeoflife.org/curator/study/view/ot_520?tab=trees&tree=tree1\n",
      "Jønsson, Knud Andreas, Pierre-Henri Fabre, Jonathan D. Kennedy, Ben G. Holt, Michael K. Borregaard, Carsten Rahbek, Jon Fjeldså. 2016. A supermatrix phylogeny of corvoid passerine birds (Aves: Corvides). Molecular Phylogenetics and Evolution 94: 87-94.\n",
      "http://dx.doi.org/10.1016/j.ympev.2015.08.020\n",
      "\n",
      "https://tree.opentreeoflife.org/curator/study/view/pg_2804?tab=trees&tree=tree6511\n",
      "Kimball, Rebecca T., Colette M. St. Mary, Edward L. Braun. 2011. A macroevolutionary perspective on multiple sexual traits in the Phasianidae (Galliformes). International Journal of Evolutionary Biology 2011: 1-16.\n",
      "http://dx.doi.org/10.4061/2011/423938\n",
      "\n",
      "https://tree.opentreeoflife.org/curator/study/view/ot_312?tab=trees&tree=tree1\n",
      "Schweizer, Manuel, Timothy F. Wright, Joshua V. Peñalba, Erin E. Schirtzinger, Leo Joseph. 2015. Molecular phylogenetics suggests a New Guinean origin and frequent episodes of founder-event speciation in the nectarivorous lories and lorikeets (Aves: Psittaciformes). Molecular Phylogenetics and Evolution 90: 34-48.\n",
      "http://dx.doi.org/10.1016/j.ympev.2015.04.021\n",
      "\n",
      "https://tree.opentreeoflife.org/curator/study/view/ot_171?tab=trees&tree=tree1\n",
      "Spellman, GM, A Cibois, RG Moyle, K Winker, F Keith Barker. 2008. Clarifying the systematics of an enigmatic avian lineage: What is a bombycillid?. Molecular Phylogenetics and Evolution 49 (3): 1036-1040.\n",
      "http://dx.doi.org/10.1016/j.ympev.2008.09.006\n",
      "\n",
      "https://tree.opentreeoflife.org/curator/study/view/ot_290?tab=trees&tree=tree1\n",
      "Selvatti, Alexandre Pedro, Luiz Pedreira Gonzaga, Claudia Augusta de Moraes Russo. 2015. A Paleogene origin for crown passerines and the diversification of the Oscines in the New World. Molecular Phylogenetics and Evolution 88: 1-15.\n",
      "http://dx.doi.org/10.1016/j.ympev.2015.03.018\n",
      "\n",
      "https://tree.opentreeoflife.org/curator/study/view/ot_783?tab=trees&tree=tree1\n",
      "Moyle, Robert G., Carl H. Oliveros, Michael J. Andersen, Peter A. Hosner, Brett W. Benz, Joseph D. Manthey, Scott L. Travers, Rafe M. Brown, Brant C. Faircloth. 2016. Tectonic collision and uplift of Wallacea triggered the global songbird radiation. Nature Communications 7: 12709\n",
      "http://dx.doi.org/10.1038/ncomms12709\n",
      "\n",
      "https://tree.opentreeoflife.org/curator/study/view/pg_2015?tab=trees&tree=tree4152\n",
      "Odeen, A., Hastad O., & Alstrom P. 2011. Evolution of ultraviolet vision in the largest avian radiation - the passerines. BMC Evolutionary Biology 11 (313): 1-8.\n",
      "http://dx.doi.org/10.1186/1471-2148-11-313\n",
      "\n",
      "https://tree.opentreeoflife.org/curator/study/view/ot_531?tab=trees&tree=tree1\n",
      "Claramunt, Santiago, Joel Cracraft. 2015. A new time tree reveals Earth historys imprint on the evolution of modern birds. Science Advances 1 (11): e1501005-e1501005\n",
      "http://dx.doi.org/10.1126/sciadv.1501005\n",
      "\n",
      "https://tree.opentreeoflife.org/curator/study/view/ot_782?tab=trees&tree=Tr48736\n",
      "Beresford, P., F.K. Barker, P.G. Ryan, T.M. Crowe. 2005. African endemics span the tree of songbirds (Passeri): molecular systematics of several evolutionary 'enigmas'. Proceedings of the Royal Society B: Biological Sciences 272 (1565): 849-858\n",
      "http://dx.doi.org/10.1098/rspb.2004.2997\n",
      "\n",
      "https://tree.opentreeoflife.org/curator/study/view/ot_1844?tab=trees&tree=tree1\n",
      "Martin Stervander, Peter G. Ryan, Martim Melo, Bengt Hansson, 2019, 'The origin of the world’s smallest flightless bird, the Inaccessible Island Rail Atlantisia rogersi (Aves: Rallidae)', Molecular Phylogenetics and Evolution, vol. 130, pp. 92-98\n",
      "http://dx.doi.org/10.1016/j.ympev.2018.10.007\n",
      "\n",
      "https://tree.opentreeoflife.org/curator/study/view/pg_2575?tab=trees&tree=tree5974\n",
      "Barker, F. K., K. J. Burns, J. Klicka, S. M. Lanyon, I. J. Lovette. 2013. Going to extremes: contrasting rates of diversification in a recent radiation of New World passerine birds. Systematic Biology 62 (2): 298-320.\n",
      "http://dx.doi.org/10.1093/sysbio/sys094\n",
      "\n",
      "https://tree.opentreeoflife.org/curator/study/view/ot_770?tab=trees&tree=tree1\n",
      "Barker, F. Keith, Kevin J. Burns, John Klicka, Scott M. Lanyon, Irby J. Lovette. 2015. New insights into New World biogeography: An integrated view from the phylogeny of blackbirds, cardinals, sparrows, tanagers, warblers, and allies. The Auk 132 (2): 333-348.\n",
      "http://dx.doi.org/10.1642/auk-14-110.1\n",
      "\n",
      "https://tree.opentreeoflife.org/curator/study/view/pg_2924?tab=trees&tree=tree6755\n",
      "Klicka, John, F. Keith Barker, Kevin J. Burns, Scott M. Lanyon, Irby J. Lovette, Jaime A. Chaves, Robert W. Bryson. 2014. A comprehensive multilocus assessment of sparrow (Aves: Passerellidae) relationships. Molecular Phylogenetics and Evolution 77: 177–182.\n",
      "http://dx.doi.org/10.1016/j.ympev.2014.04.025\n",
      "\n",
      "https://tree.opentreeoflife.org/curator/study/view/ot_841?tab=trees&tree=tree1\n",
      "Simone Treplin, Romy Siegert, Christoph Bleidorn, Hazell Shokellu Thompson, Roger Fotso, Ralph Tiedemann, 2008, 'Molecular phylogeny of songbirds (Aves: Passeriformes) and the relative utility of common nuclear marker loci', Cladistics, vol. 24, no. 3, pp. 328-349\n",
      "http://dx.doi.org/10.1111/j.1096-0031.2007.00178.x\n",
      "\n",
      "https://tree.opentreeoflife.org/curator/study/view/pg_2913?tab=trees&tree=tree6742\n",
      "Price, Trevor D., Daniel M. Hooper, Caitlyn D. Buchanan, Ulf S. Johansson, D. Thomas Tietze, Per Alström, Urban Olsson, Mousumi Ghosh-Harihar, Farah Ishtiaq, Sandeep K. Gupta, Jochen Martens, Bettina Harr, Pratap Singh, Dhananjai Mohan. 2014. Niche filling slows the diversification of Himalayan songbirds. Nature 509: 222-225.\n",
      "http://dx.doi.org/10.1038/nature13272\n",
      "\n",
      "https://tree.opentreeoflife.org/curator/study/view/ot_534?tab=trees&tree=tree1\n",
      "Ksepka, Daniel T., Matthew J. Phillips. 2015. Avian diversification patterns across the K-Pg boundary: influence of calibrations, datasets, and model misspecification. Annals of the Missouri Botanical Garden 100 (4): 300-328\n",
      "http://dx.doi.org/10.3417/2014032\n",
      "\n",
      "https://tree.opentreeoflife.org/curator/study/view/ot_757?tab=trees&tree=Tr70438\n",
      "Ericson, Per GP, Seraina Klopfstein, Martin Irestedt, Jacqueline MT Nguyen and Johan AA Nylander. 2014. Dating the diversification of the major lineages of Passeriformes (Aves). BMC Evolutionary Biology, 14(8).\n",
      "http://dx.doi.org/10.1186/1471-2148-14-8\n",
      "\n",
      "https://tree.opentreeoflife.org/curator/study/view/pg_420?tab=trees&tree=tree522\n",
      "Hackett, S. J., R. T. Kimball, S. Reddy, R. C. K. Bowie, E. L. Braun, M. J. Braun, J. L. Chojnowski, W. A. Cox, K.-L. Han, J. Harshman, C. J. Huddleston, B. D. Marks, K. J. Miglia, W. S. Moore, F. H. Sheldon, D. W. Steadman, C. C. Witt, T. Yuri. 2008. A Phylogenomic Study of Birds Reveals Their Evolutionary History. Science 320 (5884): 1763-1768.\n",
      "http://dx.doi.org/10.1126/science.1157704\n",
      "\n",
      "https://tree.opentreeoflife.org/curator/study/view/ot_412?tab=trees&tree=Tr77157\n",
      "Barker, F.K. 2014. Mitogenomic data resolve basal relationships among passeriform and passeridan birds. Molecular Phylogenetics and Evolution 79: 313-324.\n",
      "http://dx.doi.org/10.1016/j.ympev.2014.06.011\n",
      "\n",
      "https://tree.opentreeoflife.org/curator/study/view/ot_500?tab=trees&tree=tree1\n",
      "Prum, Richard O., Jacob S. Berv, Alex Dornburg, Daniel J. Field, Jeffrey P. Townsend, Emily Moriarty Lemmon, Alan R. Lemmon. 2015. A comprehensive phylogeny of birds (Aves) using targeted next-generation DNA sequencing. Nature 526, (7574): 569-573\n",
      "http://dx.doi.org/10.1038/nature15697\n",
      "\n",
      "https://tree.opentreeoflife.org/curator/study/view/ot_532?tab=trees&tree=tree1\n",
      "Gibb, Gillian C., Ryan England, Gerrit Hartig, P.A. (Trish) McLenachan, Briar L. Taylor Smith, Bennet J. McComish, Alan Cooper, David Penny. 2015. New Zealand passerines help clarify the diversification of major songbird lineages during the Oligocene. Genome Biology and Evolution 7 (11): 2983-2995.\n",
      "http://dx.doi.org/10.1093/gbe/evv196\n",
      "\n",
      "https://tree.opentreeoflife.org/curator/study/view/pg_2404?tab=trees&tree=tree5068\n",
      "Barker, F. Keith, Alice Cibois, Peter Schikler, Julie Feinstein, Joel Cracraft. 2004. Phylogeny and diversification of the largest avian radiation. Proceedings of the National Academy of Sciences of the United States of America 101 (30): 11040-11045.\n",
      "http://dx.doi.org/10.1073/pnas.0401892101\n",
      "\n",
      "https://tree.opentreeoflife.org/curator/study/view/pg_2404?tab=trees&tree=tree6388\n",
      "Barker, F. Keith, Alice Cibois, Peter Schikler, Julie Feinstein, Joel Cracraft. 2004. Phylogeny and diversification of the largest avian radiation. Proceedings of the National Academy of Sciences of the United States of America 101 (30): 11040-11045.\n",
      "http://dx.doi.org/10.1073/pnas.0401892101\n",
      "\n",
      "https://tree.opentreeoflife.org/curator/study/view/ot_854?tab=trees&tree=tree1\n",
      "Ulf S. Johansson, Jon Fjeldså, Rauri C.K. Bowie, 2008, 'Phylogenetic relationships within Passerida (Aves: Passeriformes): A review and a new molecular phylogeny based on three nuclear intron markers', Molecular Phylogenetics and Evolution, vol. 48, no. 3, pp. 858-876\n",
      "http://dx.doi.org/10.1016/j.ympev.2008.05.029\n",
      "\n",
      "https://tree.opentreeoflife.org/curator/study/view/ot_111?tab=trees&tree=tree1\n",
      "Alstrom, P., D. M. Hooper, Y. Liu, U. Olsson, D. Mohan, M. Gelang, H. Le Manh, J. Zhao, F. Lei, T. D. Price. 2014. Discovery of a relict lineage and monotypic family of passerine birds. Biology Letters 10 (3): 20131067-20131067.\n",
      "http://dx.doi.org/10.1098/rsbl.2013.1067\n",
      "\n",
      "https://tree.opentreeoflife.org/curator/study/view/pg_2872?tab=trees&tree=tree6665\n",
      "Han, Kin-Lan, Mark B. Robbins, Michael J. Braun. 2010. A multi-gene estimate of phylogeny in the nightjars and nighthawks (Caprimulgidae). Molecular Phylogenetics and Evolution 55 (2): 443-453.\n",
      "http://dx.doi.org/10.1016/j.ympev.2010.01.023\n",
      "\n",
      "https://tree.opentreeoflife.org/curator/study/view/ot_753?tab=trees&tree=tree1\n",
      "Wang, Ning, Rebecca T. Kimball, Edward L. Braun, Bin Liang, Zhengwang Zhang. 2016. Ancestral range reconstruction of Galliformes: the effects of topology and taxon sampling. Journal of Biogeography\n",
      "http://dx.doi.org/10.1111/jbi.12782\n",
      "\n",
      "https://tree.opentreeoflife.org/curator/study/view/pg_2577?tab=trees&tree=tree5980\n",
      "Wang, Ning, Rebecca T. Kimball, Edward L. Braun, Bin Liang, Zhengwang Zhang. 2013. Assessing phylogenetic relationships among Galliformes: a multigene phylogeny with expanded taxon sampling in Phasianidae. PLoS ONE 8 (5): e64312.\n",
      "http://dx.doi.org/10.1371/journal.pone.0064312\n",
      "\n",
      "https://tree.opentreeoflife.org/curator/study/view/ot_1002?tab=trees&tree=tree1\n",
      "Hosner, Peter A. Brant C. Faircloth, Travis C. Glenn, Edward L. Braun, Rebecca T. Kimball. 2015. Avoiding missing data biases in phylogenomic inference: an empirical study in the landfowl (Aves: Galliformes). Molecular Biology and Evolution 33 (4): 1110-1125\n",
      "http://dx.doi.org/10.1093/molbev/msv347\n",
      "\n",
      "https://tree.opentreeoflife.org/curator/study/view/ot_1345?tab=trees&tree=Tr109614\n",
      "Worthy T., Mitri M., Handley W.D., Lee M.S., Anderson A., & Sand C. 2016. Osteology Supports a Stem-Galliform Affinity for the Giant Extinct Flightless Bird Sylviornis neocaledoniae (Sylviornithidae, Galloanseres). PLoS ONE, 11(3): e0150871.\n",
      "http://dx.doi.org/10.1371/journal.pone.0150871\n",
      "\n",
      "https://tree.opentreeoflife.org/curator/study/view/ot_116?tab=trees&tree=tree1\n",
      "Hugall, Andrew F., Devi Stuart-Fox. 2012. Accelerated speciation in colour-polymorphic birds. Nature 485 (7400): 631-634.\n",
      "http://dx.doi.org/10.1038/nature11050\n",
      "\n",
      "https://tree.opentreeoflife.org/curator/study/view/ot_773?tab=trees&tree=tree1\n",
      "Wood, Jamie R., Kieren J. Mitchell, R. Paul Scofield, Vanesa L. De Pietri, Nicolas J. Rawlence, Alan Cooper. 2016. Phylogenetic relationships and terrestrial adaptations of the extinct laughing owl, Sceloglaux albifacies (Aves: Strigidae). Zoological Journal of the Linnean Society\n",
      "http://dx.doi.org/10.1111/zoj.12483\n",
      "\n",
      "https://tree.opentreeoflife.org/curator/study/view/ot_837?tab=trees&tree=tree1\n",
      "Robert G. Moyle, 2006, 'A MOLECULAR PHYLOGENY OF KINGFISHERS (ALCEDINIDAE) WITH INSIGHTS INTO EARLY BIOGEOGRAPHIC HISTORY', The Auk, vol. 123, no. 2, p. 487\n",
      "http://dx.doi.org/10.1642/0004-8038(2006)123[487:ampoka]2.0.co;2\n",
      "\n",
      "https://tree.opentreeoflife.org/curator/study/view/ot_855?tab=trees&tree=tree1\n",
      "Martin Irestedt, Jérôme Fuchs, Knud A. Jønsson, Jan I. Ohlson, Eric Pasquet, Per G.P. Ericson, 2008, 'The systematic affinity of the enigmatic Lamprolia victoriae (Aves: Passeriformes)—An example of avian dispersal between New Guinea and Fiji over Miocene intermittent land bridges?', Molecular Phylogenetics and Evolution, vol. 48, no. 3, pp. 1218-1222\n",
      "http://dx.doi.org/10.1016/j.ympev.2008.05.038\n",
      "\n",
      "https://tree.opentreeoflife.org/curator/study/view/pg_2702?tab=trees&tree=tree6274\n",
      "Aggerbeck, Marie, Jon Fjeldså, Les Christidis, Pierre-Henri Fabre, Knud Andreas Jønsson. 2014. Resolving deep lineage divergences in core corvoid passerine birds supports a proto-Papuan island origin. Molecular Phylogenetics and Evolution 70: 272-285.\n",
      "http://dx.doi.org/10.1016/j.ympev.2013.09.027\n",
      "\n",
      "https://tree.opentreeoflife.org/curator/study/view/ot_843?tab=trees&tree=tree3\n",
      "Rheindt, Frank E., Janette A. Norman, Les Christidis. 2008. Phylogenetic relationships of tyrant-flycatchers (Aves: Tyrannidae), with an emphasis on the elaeniine assemblage. Molecular Phylogenetics and Evolution 46 (1): 88-101\n",
      "http://dx.doi.org/10.1016/j.ympev.2007.09.011\n",
      "\n",
      "https://tree.opentreeoflife.org/curator/study/view/ot_121?tab=trees&tree=tree7\n",
      "Payne, Robert B. The cuckoos. Vol. 15. Oxford University Press, 2005. \n",
      "ISBN-13: 978-0198502135 ISBN-10: 0198502133\n",
      "http://ukcatalogue.oup.com/product/9780198502135.do\n",
      "\n",
      "https://tree.opentreeoflife.org/curator/study/view/ot_1174?tab=trees&tree=tree3\n",
      "Michael D. D'Emic, Roger B.J. Benson, 2013, 'Measurement, variation, and scaling of osteocyte lacunae: a case study in birds', Bone, vol. 57, no. 1, pp. 300-310\n",
      "http://dx.doi.org/10.1016/j.bone.2013.08.010\n",
      "\n",
      "https://tree.opentreeoflife.org/curator/study/view/pg_2866?tab=trees&tree=tree6656\n",
      "Gonzalez, J., H. Düttmann, M. Wink. 2009. Phylogenetic relationships based on two mitochondrial genes and hybridization patterns in Anatidae. Journal of Zoology 279 (3): 310-318.\n",
      "http://dx.doi.org/10.1111/j.1469-7998.2009.00622.x\n",
      "\n",
      "https://tree.opentreeoflife.org/curator/study/view/ot_314?tab=trees&tree=tree1\n",
      "Suh, Alexander, Linnéa Smeds, Hans Ellegren. 2015. The dynamics of incomplete lineage sorting across the ancient adaptive radiation of neoavian birds. PLOS Biology13 (8): e1002224\n",
      "http://dx.doi.org/10.1371/journal.pbio.1002224\n",
      "\n",
      "https://tree.opentreeoflife.org/curator/study/view/pg_1586?tab=trees&tree=tree3208\n",
      "Moyle, R.G., Andersen M.J., Oliveros C., Steinheimer F.D., and Reddy S. 2012. Phylogeny and biogeography of the core babblers (Aves: Timaliidae). Systematic Biology 61 (4): 631-651.\n",
      "http://dx.doi.org/10.1093/sysbio/sys027\n",
      "\n",
      "https://tree.opentreeoflife.org/curator/study/view/ot_415?tab=trees&tree=tree2\n",
      "García–R, Juan C., Gillian C. Gibb, Steve A. Trewick. 2014. Eocene diversification of crown group rails (Aves: Gruiformes: Rallidae). PLoS ONE 9 (10): e109635\n",
      "http://dx.doi.org/10.1371/journal.pone.0109635\n",
      "\n",
      "https://tree.opentreeoflife.org/curator/study/view/pg_1872?tab=trees&tree=tree3780\n",
      "Fain, M., Krajewski C., & Houde P. 2007. Phylogeny of \"core Gruiformes\" (Aves: Grues) and resolution of the Limpkin-Sungrebe problem. Molecular Phylogenetics and Evolution 43 (2): 515-529.\n",
      "http://dx.doi.org/10.1016/j.ympev.2007.02.015\n",
      "\n",
      "https://tree.opentreeoflife.org/curator/study/view/ot_836?tab=trees&tree=tree1\n",
      "Robert G. Moyle, Joel Cracraft, Maklarin Lakim, Jamili Nais, Frederick H. Sheldon, 2006, 'Reconsideration of the phylogenetic relationships of the enigmatic Bornean Bristlehead (Pityriasis gymnocephala)', Molecular Phylogenetics and Evolution, vol. 39, no. 3, pp. 893-898\n",
      "http://dx.doi.org/10.1016/j.ympev.2006.01.024\n",
      "\n",
      "https://tree.opentreeoflife.org/curator/study/view/ot_847?tab=trees&tree=tree1\n",
      "A. Manegold, 2008, 'Composition and phylogenetic affinities of vangas (Vangidae, Oscines, Passeriformes) based on morphological characters', Journal of Zoological Systematics and Evolutionary Research, vol. 46, no. 3, pp. 267-277\n",
      "http://dx.doi.org/10.1111/j.1439-0469.2008.00458.x\n",
      "\n",
      "https://tree.opentreeoflife.org/curator/study/view/pg_1953?tab=trees&tree=tree3977\n",
      "Derryberry, E.P., Claramunt S., Derryberry G.E., Chesser R.T., Cracraft J., Aleixo A., Perez-eman J., Remsen J., and Brumfield R. 2011. Lineage diversification and morphological evolution in a large-scale continental radiation: the Neotropical ovenbirds and woodcreepers (Aves: Furnariidae). Evolution 65 (10): 2973-2986.\n",
      "http://dx.doi.org/10.1111/j.1558-5646.2011.01374.x\n",
      "\n",
      "https://tree.opentreeoflife.org/curator/study/view/ot_146?tab=trees&tree=tree1\n",
      "Baker, Allan J., Sergio L Pereira, Tara A Paton. 2007. Phylogenetic relationships and divergence times of Charadriiformes genera: multigene evidence for the Cretaceous origin of at least 14 clades of shorebirds. Biology. Letters 3 (2): 205-210.\n",
      "http://dx.doi.org/10.1098/rsbl.2006.0606\n",
      "\n",
      "https://tree.opentreeoflife.org/curator/study/view/ot_180?tab=trees&tree=tree1\n",
      "Lovette, Irby J., Dustin R. Rubenstein. 2007. A comprehensive molecular phylogeny of the starlings (Aves: Sturnidae) and mockingbirds (Aves: Mimidae): congruent mtDNA and nuclear trees for a cosmopolitan avian radiation. Molecular Phylogenetics and Evolution 44 (3): 1031-1056.\n",
      "http://dx.doi.org/10.1016/j.ympev.2007.03.017\n",
      "\n",
      "https://tree.opentreeoflife.org/curator/study/view/ot_1516?tab=trees&tree=Tr55113\n",
      "Hu D., Xu X., Hou L., & Sullivan C. 2012. A new enantiornithine bird from the Lower Cretaceous of Western Liaoning, China, and its implications for early avian evolution. Journal of Vertebrate Paleontology, 32(3): 639-645.\n",
      "http://dx.doi.org/10.1080/02724634.2012.652321\n",
      "\n",
      "https://tree.opentreeoflife.org/curator/study/view/pg_2416?tab=trees&tree=tree3\n",
      "Nunn, Gary B., Scott E. Stanley. 1998. Body size effects and rates of cytochrome b evolution in tube-nosed seabirds. Molecular Biology and Evolution 15 (10): 1360-1371.\n",
      "http://dx.doi.org/10.1093/oxfordjournals.molbev.a025864\n",
      "\n",
      "https://tree.opentreeoflife.org/curator/study/view/pg_2805?tab=trees&tree=tree6512\n",
      "Wright, T. F., E. E. Schirtzinger, T. Matsumoto, J. R. Eberhard, G. R. Graves, J. J. Sanchez, S. Capelli, H. Muller, J. Scharpegge, G. K. Chambers, R. C. Fleischer. 2008. A multilocus molecular phylogeny of the parrots (Psittaciformes): support for a Gondwanan origin during the Cretaceous. Molecular Biology and Evolution 25 (10): 2141-2156.\n",
      "http://dx.doi.org/10.1093/molbev/msn160\n",
      "\n",
      "https://tree.opentreeoflife.org/curator/study/view/pg_2806?tab=trees&tree=tree6529\n",
      "Joseph, Leo, Alicia Toon, Erin E. Schirtzinger, Timothy F. Wright. 2011. Molecular systematics of two enigmatic genera Psittacella and Pezoporus illuminate the ecological radiation of Australo-Papuan parrots (Aves: Psittaciformes). Molecular Phylogenetics and Evolution 59 (3): 675-684.\n",
      "http://dx.doi.org/10.1016/j.ympev.2011.03.017\n",
      "\n",
      "https://tree.opentreeoflife.org/curator/study/view/ot_655?tab=trees&tree=tree1\n",
      "Besnard, Guillaume, Joris A. M. Bertrand, Boris Delahaie, Yann X. C. Bourgeois, Emeline Lhuillier, Christophe Thébaud. 2015. Valuing museum specimens: high-throughput DNA sequencing on historical collections of New Guinea crowned pigeons (Goura). Biological Journal of the Linnean Society 117 (1): 71-82\n",
      "http://dx.doi.org/10.1111/bij.12494\n",
      "\n",
      "https://tree.opentreeoflife.org/curator/study/view/pg_2444?tab=trees&tree=tree6526\n",
      "Pereira, S., Johnson K., Clayton D., and Baker A. 2007. Mitochondrial and nuclear DNA sequences support a Cretaceous origin of Columbiformes and a dispersal-driven radiation in the Paleogene. Systematic Biology 56 (4): 656-672.\n",
      "http://dx.doi.org/10.1080/10635150701549672\n",
      "\n",
      "https://tree.opentreeoflife.org/curator/study/view/ot_874?tab=trees&tree=tree1\n",
      "Zuccon, Dario, Alice Cibois, Eric Pasquet, Per G.P. Ericson. 2006. Nuclear and mitochondrial sequence data reveal the major lineages of starlings, mynas and related taxa. Molecular Phylogenetics and Evolution 41 (2): 333-344\n",
      "http://dx.doi.org/10.1016/j.ympev.2006.05.007\n",
      "\n",
      "https://tree.opentreeoflife.org/curator/study/view/pg_2869?tab=trees&tree=tree6661\n",
      "Gonzalez, Juan-Carlos T., Ben C. Sheldon, Nigel J. Collar, Joseph A. Tobias. 2013. A comprehensive molecular phylogeny for the hornbills (Aves: Bucerotidae). Molecular Phylogenetics and Evolution 67 (2): 468-483.\n",
      "http://dx.doi.org/10.1016/j.ympev.2013.02.012\n",
      "\n",
      "https://tree.opentreeoflife.org/curator/study/view/pg_2926?tab=trees&tree=tree6757\n",
      "Mitchell, K. J., B. Llamas, J. Soubrier, N. J. Rawlence, T. H. Worthy, J. Wood, M. S. Y. Lee, A. Cooper. 2014. Ancient DNA reveals elephant birds and kiwi are sister taxa and clarifies ratite bird evolution. Science 344 (6186): 898-900.\n",
      "http://dx.doi.org/10.1126/science.1251981\n",
      "\n",
      "https://tree.opentreeoflife.org/curator/study/view/ot_831?tab=trees&tree=tree2\n",
      "ROBERT G. MOYLE, R TERRY CHESSER, RICHARD O. PRUM, PETER SCHIKLER, JOEL CRACRAFT, 2006, 'Phylogeny and Evolutionary History of Old World Suboscine Birds (Aves: Eurylaimides)', American Museum Novitates, vol. 3544, no. 1, p. 1\n",
      "http://dx.doi.org/10.1206/0003-0082(2006)3544[1:paehoo]2.0.co;2\n",
      "\n"
     ]
    }
   ],
   "source": [
    "print(OT.get_citations(ret['supporting_studies']))"
   ]
  }
 ],
 "metadata": {
  "kernelspec": {
   "display_name": "opentree",
   "language": "python",
   "name": "opentree"
  },
  "language_info": {
   "codemirror_mode": {
    "name": "ipython",
    "version": 3
   },
   "file_extension": ".py",
   "mimetype": "text/x-python",
   "name": "python",
   "nbconvert_exporter": "python",
   "pygments_lexer": "ipython3",
   "version": "3.8.5"
  }
 },
 "nbformat": 4,
 "nbformat_minor": 4
}
