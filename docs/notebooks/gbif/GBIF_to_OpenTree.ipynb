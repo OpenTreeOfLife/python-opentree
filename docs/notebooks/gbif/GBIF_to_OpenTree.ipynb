{
 "cells": [
  {
   "cell_type": "markdown",
   "metadata": {},
   "source": [
    "## Getting an evolutionary tree for taxa in a region using GBIF and OpenTree of Life\n",
    "### Example from the University of California, Merced Vernal Pools Reserve\n",
    "https://vernalpools.ucmerced.edu/\n",
    "\n",
    "More info and context at https://github.com/McTavishLab/biodiversity_next/blob/master/biodiversity_next.pdf\n",
    "\n"
   ]
  },
  {
   "cell_type": "markdown",
   "metadata": {},
   "source": [
    "### Get occurence data from GBIF\n",
    "Set polygon: https://www.gbif.org/occurrence/search?country=US&has_coordinate=true&has_geospatial_issue=false&taxon_key=1&advanced=1&geometry=POLYGON((-120.45565%2037.35309,-120.36587%2037.35309,-120.36587%2037.44063,-120.45565%2037.44063,-120.45565%2037.35309))\n",
    "\n",
    "Download records.\n",
    "\n",
    "Here I have limited the search to 'Animalia'\n",
    "\n"
   ]
  },
  {
   "cell_type": "code",
   "execution_count": 1,
   "metadata": {},
   "outputs": [],
   "source": [
    "import sys\n",
    "from opentree import OT, taxonomy_helpers"
   ]
  },
  {
   "cell_type": "code",
   "execution_count": 2,
   "metadata": {},
   "outputs": [],
   "source": [
    "input_gbif_file = \"0023214-190918142434337.csv\"\n",
    "#Example data (17 October 2019) GBIF Occurrence Download https://doi.org/10.15468/dl.9bigak "
   ]
  },
  {
   "cell_type": "code",
   "execution_count": 3,
   "metadata": {},
   "outputs": [
    {
     "name": "stdout",
     "output_type": "stream",
     "text": [
      "Matching ids\n",
      "........................\n",
      "gbif:5229155,Pelecanus erythrorhynchos matched on name to ott id316989\n",
      "....\n",
      "gbif:9088491,Dryobates nuttallii matched on name to ott id701703\n",
      "..\n",
      "gbif:5231677,Mimus polyglottos matched on name to ott id571310\n",
      "......................................\n",
      "gbif:2498167,Anser caerulescens matched on name to ott id190878\n",
      "...........\n",
      "gbif:2498161,Anser rossii matched on name to ott id767830\n",
      "..................................................................................................\n",
      "gbif:6093694,Oreothlypis ruficapilla matched on name to ott id392341\n",
      ".............................\n",
      "gbif:7342009,Oreothlypis celata matched on name to ott id88835\n",
      ".\n",
      "gbif:8332393,Spatula clypeata matched on name to ott id656794\n",
      ".....\n",
      "gbif:9362027,Mareca strepera matched on name to ott id30856\n",
      "..............................\n",
      "gbif:7340222,Gallinula galeata matched on name to ott id181047\n",
      "......................\n",
      "gbif:9345027,Spatula cyanoptera matched on name to ott id82411\n",
      "......................................................................................................................................................................................................................................................................................................................\n",
      "gbif:2498155,Mareca americana matched on name to ott id656788\n",
      "...............................................................................................................................................................................................................................................................................................................................................................................................................................................................................................................................................................................................................................................................................................................................................................................................................................................................................................................................................................................................................................................................................................................................................................................................................................................................................................................................................................................................................................................................................................................................................................................................................................................................................................................................................................................................................................................................................................................................................................................................................................................................................................................................................................................................................................................................................................................................................................................................................................................................................................................................................................................................................................................................................................................................................................................................................................................................................................................................................\n",
      "gbif:4302510,Plathemis lydia matched on name to ott id874624\n",
      ".......\n",
      "gbif:5211250,Micropterus dolomieu matched on name to ott id235372\n",
      ".......\n",
      "gbif:9036008,Antigone canadensis matched on name to ott id257929\n",
      "...................................................................................................................................................................................................................................................................................................................................................................................................................................................................\n",
      "gbif:9149595,Dryobates pubescens matched on name to ott id873958\n",
      "..................................................................................................................................................................................................................................................................................................................................................................................................................................................................................................................................................................................................................................................................................................................................................................................................................................................................................................................................................................................................................................................................................................................................................................................................................................................................................................................................................................................................................................................\n",
      "gbif:9422220,Spatula discors matched on name to ott id82415\n",
      "..................................................................................................................................................................................................................................................................................................................................................................................................................................................................................................................................................................................................................................................................................................................................................................................................................................................................................................................................................................................................................................................................................................................................................................................................................................................................................................................................................................................\n",
      "gbif:2428133,Hyla regilla matched on name to ott id1038213\n",
      ".\n",
      "gbif:2427092,Rana catesbeiana matched on name to ott id14688\n",
      "...........\n",
      "gbif:5030643,Ichneumon cupitus Cresson 1877 still NO MATCH\n",
      ".............................\n",
      "gbif:7576768,P. abortivum St. still NO MATCH\n",
      ".........................................................................."
     ]
    }
   ],
   "source": [
    "fi = open(input_gbif_file)\n",
    "header = fi.readline().split('\\t')\n",
    "\n",
    "\n",
    "#Get indexes for each column in the csv file\n",
    "col_dict = {}\n",
    "for i, col in enumerate(header):\n",
    "    col_dict[col] = i\n",
    "\n",
    "\n",
    "sys.stdout.write(\"Matching ids\\n\")\n",
    "\n",
    "match_dict = {}\n",
    "gbif_ids = []\n",
    "ott_ids = []\n",
    "i = 0\n",
    "#Looop through each line in the input CSV file\n",
    "for lin in fi:\n",
    "    i += 1\n",
    "    sys.stdout.write(\".\") #progress bar\n",
    "    sys.stdout.flush()\n",
    "    lii = lin.split('\\t')\n",
    "    gb_id = lii[col_dict['taxonKey']]\n",
    "    if gb_id in match_dict:\n",
    "        #Skip gb_id's you have already matched\n",
    "        pass\n",
    "    else:\n",
    "        # Do a direct match to gbif id's in the open tree taxonomy\n",
    "        gbiftax = \"gbif:{}\".format(int(gb_id))\n",
    "        res = OT.taxon_info(source_id=gbiftax)\n",
    "        if res.status_code == 200:\n",
    "            ott_id = int(res.response_dict['ott_id'])\n",
    "            match_dict[gb_id] = ott_id\n",
    "        if res.status_code == 400:\n",
    "            # If GBIF id isn' found in the open tree taxonomy, search on scientific name\n",
    "            spp_name = lii[col_dict['verbatimScientificName']]\n",
    "            if spp_name == '':\n",
    "                continue\n",
    "#            sys.stdout.write(\"\\n{},{} not matched on ID\\n\".format(gbiftax, spp_name))\n",
    "            res2 = OT.tnrs_match([spp_name])\n",
    "            if res2.status_code == 200:\n",
    "                if len(res2.response_dict['results']) > 0:\n",
    "                    if res2.response_dict['results'][0]['matches']:\n",
    "                        ott_id = int(res2.response_dict['results'][0]['matches'][0]['taxon']['ott_id'])\n",
    "                        match_dict[gb_id] = ott_id\n",
    "                        ott_ids.append(ott_id)\n",
    "                        sys.stdout.write(\"\\n{},{} matched on name to ott id{}\\n\".format(gbiftax, spp_name, ott_id))\n",
    "                    else:\n",
    "                        sys.stdout.write(\"\\n{},{} still NO MATCH\\n\".format(gbiftax, spp_name))\n",
    "                        match_dict[gb_id] = None\n",
    "                else:\n",
    "                    sys.stdout.write(\"\\n{},{} still NO MATCH\\n\".format(gbiftax, spp_name))\n",
    "                    match_dict[gb_id] = None\n",
    "        ott_ids.append(ott_id)\n"
   ]
  },
  {
   "cell_type": "code",
   "execution_count": 4,
   "metadata": {},
   "outputs": [
    {
     "name": "stdout",
     "output_type": "stream",
     "text": [
      "Tree written to VernalPools.tre\n"
     ]
    }
   ],
   "source": [
    "ott_ids = set(ott_ids)\n",
    "if None in ott_ids:\n",
    "    ott_ids.remove(None)\n",
    "\n",
    "trefile = \"VernalPools.tre\"\n",
    "#Get the synthetic tree from OpenTree and write out the citations to a text file.\n",
    "output = taxonomy_helpers.labelled_induced_synth(ott_ids=list(ott_ids),  label_format='name')\n",
    "output['labelled_tree'].write(path = trefile, schema = \"newick\")\n",
    "sys.stdout.write(\"Tree written to {}\\n\".format(trefile))\n"
   ]
  },
  {
   "cell_type": "code",
   "execution_count": 5,
   "metadata": {},
   "outputs": [
    {
     "data": {
      "text/plain": [
       "202"
      ]
     },
     "execution_count": 5,
     "metadata": {},
     "output_type": "execute_result"
    }
   ],
   "source": [
    "len(ott_ids)"
   ]
  },
  {
   "cell_type": "code",
   "execution_count": 6,
   "metadata": {},
   "outputs": [
    {
     "data": {
      "text/plain": [
       "160"
      ]
     },
     "execution_count": 6,
     "metadata": {},
     "output_type": "execute_result"
    }
   ],
   "source": [
    "len(output['supporting_studies'])"
   ]
  },
  {
   "cell_type": "code",
   "execution_count": null,
   "metadata": {},
   "outputs": [],
   "source": [
    "print(OT.get_citations(output['supporting_studies']))"
   ]
  },
  {
   "cell_type": "code",
   "execution_count": null,
   "metadata": {},
   "outputs": [],
   "source": []
  },
  {
   "cell_type": "code",
   "execution_count": null,
   "metadata": {},
   "outputs": [],
   "source": []
  }
 ],
 "metadata": {
  "kernelspec": {
   "display_name": "Python 3",
   "language": "python",
   "name": "python3"
  },
  "language_info": {
   "codemirror_mode": {
    "name": "ipython",
    "version": 3
   },
   "file_extension": ".py",
   "mimetype": "text/x-python",
   "name": "python",
   "nbconvert_exporter": "python",
   "pygments_lexer": "ipython3",
   "version": "3.8.5"
  }
 },
 "nbformat": 4,
 "nbformat_minor": 2
}
