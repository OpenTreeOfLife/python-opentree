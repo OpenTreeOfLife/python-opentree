{
 "cells": [
  {
   "cell_type": "code",
   "execution_count": 1,
   "metadata": {},
   "outputs": [],
   "source": [
    "from opentree import OT, taxonomy_helpers, util"
   ]
  },
  {
   "cell_type": "code",
   "execution_count": 2,
   "metadata": {},
   "outputs": [],
   "source": [
    "aves = OT.get_ottid_from_name('Aves')"
   ]
  },
  {
   "cell_type": "code",
   "execution_count": 3,
   "metadata": {},
   "outputs": [
    {
     "name": "stdout",
     "output_type": "stream",
     "text": [
      "Gathering ott ids from group with ott id 81461...\n",
      "81461\n"
     ]
    }
   ],
   "source": [
    "cleaned = taxonomy_helpers.clean_taxonomy_file(taxonomy_file=\"../../ott3.2/taxonomy.tsv\")\n",
    "bird_families = taxonomy_helpers.get_ott_ids_group_and_rank(group_ott_id=aves, rank='family', taxonomy_file=cleaned)\n",
    "#Check if these are in tree\n"
   ]
  },
  {
   "cell_type": "code",
   "execution_count": 4,
   "metadata": {},
   "outputs": [
    {
     "data": {
      "text/plain": [
       "194"
      ]
     },
     "execution_count": 4,
     "metadata": {},
     "output_type": "execute_result"
    }
   ],
   "source": [
    "len(bird_families)"
   ]
  },
  {
   "cell_type": "code",
   "execution_count": 19,
   "metadata": {
    "scrolled": false
   },
   "outputs": [
    {
     "name": "stderr",
     "output_type": "stream",
     "text": [
      "\n",
      "Unknown/unrecognized query ids (skipped):\n",
      " ott3596122 \n"
     ]
    }
   ],
   "source": [
    "ret = taxonomy_helpers.synth_label_broken_taxa(ott_ids = bird_families, label_format=\"name\")\n"
   ]
  },
  {
   "cell_type": "code",
   "execution_count": null,
   "metadata": {},
   "outputs": [],
   "source": []
  },
  {
   "cell_type": "code",
   "execution_count": 15,
   "metadata": {},
   "outputs": [
    {
     "name": "stdout",
     "output_type": "stream",
     "text": [
      "Passeridae\n",
      "Dicruridae\n",
      "Cotingidae\n",
      "Meliphagidae\n",
      "Muscicapidae\n",
      "Pycnonotidae\n",
      "Zosteropidae\n",
      "Tyrannidae\n",
      "Corvidae\n",
      "Sylviidae\n",
      "Batrachostomatidae\n",
      "Cisticolidae\n",
      "Charadriidae\n",
      "Locustellidae\n",
      "Acanthizidae\n",
      "Mimidae\n",
      "Rallidae\n",
      "Nectariniidae\n",
      "Certhiidae\n",
      "Thraupidae\n",
      "Parulidae\n",
      "Ptilonorhynchidae\n",
      "Rhinocryptidae\n",
      "Formicariidae\n",
      "Ramphastidae\n",
      "Paridae\n",
      "Timaliidae\n",
      "Sturnidae\n",
      "Psittaculidae\n",
      "Furnariidae\n",
      "Bombycillidae\n",
      "Aegithalidae\n",
      "Megapodiidae\n",
      "Eurylaimidae\n",
      "Campephagidae\n",
      "Phasianidae\n",
      "Prionopidae\n",
      "Fringillidae\n",
      "Cinclosomatidae\n",
      "Laridae\n",
      "Alcedinidae\n",
      "Glareolidae\n"
     ]
    }
   ],
   "source": [
    "for tax in ret['non-monophyletic_taxa']:\n",
    "    if ret['non-monophyletic_taxa'][tax]['is_tip'] == False:\n",
    "        print(ret['non-monophyletic_taxa'][tax]['name'])"
   ]
  },
  {
   "cell_type": "code",
   "execution_count": 13,
   "metadata": {},
   "outputs": [
    {
     "data": {
      "text/plain": [
       "{'ott3596122': {'flags': [],\n",
       "  'is_suppressed': False,\n",
       "  'is_suppressed_from_synth': False,\n",
       "  'name': 'Phasanidae',\n",
       "  'ott_id': 3596122,\n",
       "  'rank': 'family',\n",
       "  'source': 'ott3.2draft9',\n",
       "  'synonyms': [],\n",
       "  'tax_sources': ['gbif:4966432'],\n",
       "  'unique_name': 'Phasanidae',\n",
       "  'url': 'https://tree.opentreeoflife.org/taxonomy/browse?id=3596122'}}"
      ]
     },
     "execution_count": 13,
     "metadata": {},
     "output_type": "execute_result"
    }
   ],
   "source": [
    "ret['unknown_ids']"
   ]
  },
  {
   "cell_type": "code",
   "execution_count": 14,
   "metadata": {},
   "outputs": [
    {
     "name": "stdout",
     "output_type": "stream",
     "text": [
      "                                /-----++ MRCA of taxa in Sittidae              \n",
      "                                |                                              \n",
      "                               /+  /---- MRCA of taxa in Turdidae              \n",
      "                               || /+                                           \n",
      "                               |\\++\\++++ Rhabdornithidae                       \n",
      "                        /------+  |                                            \n",
      "                        |      |  \\----- Cinclidae                             \n",
      "                        |      |                                               \n",
      "                        |      |     /++ Mohoidae                              \n",
      "                        |      \\----++                                         \n",
      "                    /---+            \\-+ Hypocolidae                           \n",
      "                    |   |                                                      \n",
      "                    |   | /------------+ Dicaeidae                             \n",
      "                    |   | |                                                    \n",
      "                    |   | |            / MRCA of taxa in Estrildidae           \n",
      "                    |   | |  /---------+                                       \n",
      "                    |   \\++  |         \\ MRCA of taxa in Ploceidae             \n",
      "                    |     |/++                                                 \n",
      "                    |     || |     /---+ MRCA of taxa in Passerellidae         \n",
      "                    |     || |  /+++                                           \n",
      "                    |     \\+ \\+++  \\++++ Icteridae                             \n",
      "                    |      |    |                                              \n",
      "                    |      |    \\------+ MRCA of taxa in Motacillidae          \n",
      "                    |      |                                                   \n",
      "                    +      \\------------ Irenidae                              \n",
      "                    |                                                          \n",
      "                    |               /--+ Leiothrichidae                        \n",
      "                    |         /-+++++                                          \n",
      "                    |         |     \\+++ MRCA of taxa in Pellorneidae          \n",
      "                    |        /+                                                \n",
      "                    |        ||       /+ MRCA of taxa in Cettiidae             \n",
      "                    |        ||/+++++++                                        \n",
      "                    |      /++\\+      \\- Scotocercidae                         \n",
      "                    |      | | |                                               \n",
      "                   /+      | | \\-------- Phylloscopidae                        \n",
      "                   ||  /++++ |                                                 \n",
      "                   ||  |   | \\---------- Hirundinidae                          \n",
      "                   ||/++   |                                                   \n",
      "                   ||| |   \\------------ MRCA of taxa in Bernieridae           \n",
      "                   ||+ |                                                       \n",
      "                   ||| \\---------------+ Alaudidae                             \n",
      "                  /+||                                                         \n",
      "                  |||\\-----------------+ Stenostiridae                         \n",
      "                  |||                                                          \n",
      "                  |||                  / Petroicidae                           \n",
      "                 /+|\\------------------+                                       \n",
      "                 |||                   \\ MRCA of taxa in Picathartidae         \n",
      "                 |||                                                           \n",
      "                 ||\\-------------------- Melanocharitidae                      \n",
      "                 ||                                                            \n",
      "                 |\\-------------------++ Callaeidae                            \n",
      "                 |                                                             \n",
      "                 |                    /+ MRCA of taxa in Laniidae              \n",
      "                 |                  /-+                                        \n",
      "                /+                  | \\- Monarchidae                           \n",
      "                ||                /++                                          \n",
      "                ||                | |  / Paradisaeidae                         \n",
      "                ||              /-+ \\+++                                       \n",
      "                ||              | |    \\ Corcoracidae                          \n",
      "                ||              | |                                            \n",
      "                ||             /+ \\----- Rhipiduridae                          \n",
      "                ||             ||                                              \n",
      "                ||             ||   /-++ Malaconotidae                         \n",
      "               /+|             || /++                                          \n",
      "               ||\\------------++\\++ \\+++ MRCA of taxa in Vangidae              \n",
      "               ||              |  |                                            \n",
      "               ||              |  \\----+ MRCA of taxa in Artamidae             \n",
      "               ||              |                                               \n",
      "               ||              |    /+++ Vireonidae                            \n",
      "              /+|              \\-++++                                          \n",
      "              |||                   \\--- Paramythiidae                         \n",
      "              |||                                                              \n",
      "              ||\\----------------------+ Orthonychidae                         \n",
      "              ||                                                               \n",
      "             /+|                     /++ Pardalotidae                          \n",
      "             |||                    /+                                         \n",
      "             ||\\--------------------+\\-- Dasyornithidae                        \n",
      "             ||                     |                                          \n",
      "            /+|                     \\--- Maluridae                             \n",
      "            |||                                                                \n",
      "            ||\\------------------------+ Climacteridae                         \n",
      "            ||                                                                 \n",
      "            |\\-------------------------- Menuridae                             \n",
      "            |                                                                  \n",
      "           /+                     /+++++ MRCA of taxa in Dendrocolaptidae      \n",
      "           ||                    /+                                            \n",
      "           ||                   /+\\---++ Conopophagidae                        \n",
      "           ||                   ||                                             \n",
      "           ||                  /+\\------ MRCA of taxa in Thamnophilidae        \n",
      "           ||                  ||                                              \n",
      "           |\\------------------+\\------+ MRCA of taxa in Pipridae              \n",
      "          /+                   |                                               \n",
      "          ||                   |    /--- Pittidae                              \n",
      "          ||                   \\----+                                          \n",
      "          ||                        \\+++ Philepittidae                         \n",
      "          ||                                                                   \n",
      "         /+|---------------------------- Acanthisittidae                       \n",
      "         |||                                                                   \n",
      "         ||\\---------------------------- Colluricinclidae                      \n",
      "         ||                                                                    \n",
      "        /+|                     /+++++++ MRCA of taxa in Loriidae              \n",
      "        ||\\--------------------++                                              \n",
      "        ||                      \\------- Cacatuidae                            \n",
      "       /+|                                                                     \n",
      "       ||\\-----------------------------+ Falconidae                            \n",
      "       ||                                                                      \n",
      "       |\\------------------------------+ Cariamidae                            \n",
      "       |                                                                       \n",
      "       |                               / Strigidae                             \n",
      "       |                     /---------+                                       \n",
      "       |                     |         \\ Tytonidae                             \n",
      "       |                     |                                                 \n",
      "       |                     |         / Bucerotidae                           \n",
      "       |                     |       /-+                                       \n",
      "       |                     |       | \\ Bucorvidae                            \n",
      "      /+                     |   /---+                                         \n",
      "      ||                     |   |   | / Phoeniculidae                         \n",
      "      ||                     |   |   |/+                                       \n",
      "      ||                     |   |   \\+\\ Rhinopomastidae                       \n",
      "      ||                     |   |    |                                        \n",
      "      ||                     |   |    \\- Upupidae                              \n",
      "      ||                     |   |                                             \n",
      "      ||                     |   |     / Picidae                               \n",
      "      ||                     |   |   /-+                                       \n",
      "      ||                     |  /+   | \\ Indicatoridae                         \n",
      "      ||                     |  ||  /+                                         \n",
      "      ||                     |  ||  ||/+ MRCA of taxa in Lybiidae              \n",
      "      |\\---------------------+  ||  |\\+                                        \n",
      "      |                      |  ||/-+ \\- Megalaimidae                          \n",
      "      |                      |  ||| |                                          \n",
      "      |                      |  ||| |  / Bucconidae                            \n",
      "      |                      |  ||| \\--+                                       \n",
      "      |                      |  |||    \\ Galbulidae                            \n",
      "      |                      |  |\\+                                            \n",
      "      |                      |  | |  /++ Cerylidae                             \n",
      "     /+                      | /+ | /+                                         \n",
      "     ||                      | || |/+\\-- Momotidae                             \n",
      "     ||                      | || |||                                          \n",
      "     ||                      | || \\+\\--- Todidae                               \n",
      "     ||                      | ||  |                                           \n",
      "     ||                      | ||  |  /- Meropidae                             \n",
      "     ||                      |/+|  \\--+                                        \n",
      "     ||                      ||||     |/ Coraciidae                            \n",
      "     ||                      ||||     \\+                                       \n",
      "     ||                      ||||      \\ Brachypteraciidae                     \n",
      "     ||                      \\+||                                              \n",
      "     ||                       ||\\------+ Trogonidae                            \n",
      "    /+|                       ||                                               \n",
      "    |||                       |\\-------- Leptosomidae                          \n",
      "    |||                       |                                                \n",
      "    |||                       \\--------+ Coliidae                              \n",
      "    |||                                                                        \n",
      "    |||                                / Accipitridae                          \n",
      "    |||                               /+                                       \n",
      "    |||                              /+\\ Pandionidae                           \n",
      "    |||                              ||                                        \n",
      "    ||\\------------------------------+\\- Sagittariidae _family in Opisthokonta_\n",
      "    ||                               |                                         \n",
      "    ||                               \\-- Cathartidae                           \n",
      "    ||                                                                         \n",
      "    |\\---------------------------------+ Opisthocomidae                        \n",
      "    |                                                                          \n",
      "    |                                  / Jacanidae                             \n",
      "    |                                 /+                                       \n",
      "    |                                 |\\ Rostratulidae                         \n",
      "    |                                /+                                        \n",
      "    |                                ||/ Pedionomidae                          \n",
      "    |                             /--+\\+                                       \n",
      "    |                             |  | \\ Thinocoridae                          \n",
      "    |                             |  |                                         \n",
      "    |                             |  \\-- Scolopacidae                          \n",
      "    |                            /+                                            \n",
      "    |                            ||    / MRCA of taxa in Alcidae               \n",
      "    |                            ||  /++                                       \n",
      "   /+                            ||/++ \\ Stercorariidae                        \n",
      "   ||                            ||| |                                         \n",
      "   ||                            |\\+ \\-- Dromadidae                            \n",
      "   ||                           /+ |                                           \n",
      "   ||                           || \\---- Turnicidae                            \n",
      "   ||                           ||                                             \n",
      "   ||                           ||    /+ Haematopodidae                        \n",
      "   ||                           ||/++++                                        \n",
      "   ||                           |||   \\- Recurvirostridae                      \n",
      "   ||                         /-+\\+                                            \n",
      "   ||                         | | |   /+ Chionididae                           \n",
      "   ||                         | | \\---+                                        \n",
      "   ||                         | |     \\- Burhinidae                            \n",
      "   ||                         | |                                              \n",
      "   ||                         | |     /+ Podicipedidae                         \n",
      "   ||                         | \\-----+                                        \n",
      "   ||                         |       \\+ Phoenicopteridae                      \n",
      "   ||                         |                                                \n",
      "   ||                         |        / Phalacrocoracidae                     \n",
      "   ||                         |       /+                                       \n",
      "   ||                         |      /+\\ Anhingidae                            \n",
      "   ||                         |      ||                                        \n",
      "   ||                         |    /-+\\- Sulidae                               \n",
      "   ||                         |    | |                                         \n",
      "   ||                         |    | \\-- Fregatidae                            \n",
      "   ||                         |    |                                           \n",
      "   ||                         |   /+ /-- Ardeidae                              \n",
      "  /+\\-------------------------+   || |                                         \n",
      "  ||                          |   ||/+ / Pelecanidae                           \n",
      "  ||                          |   ||||/+                                       \n",
      "  ||                          |   |||\\+\\ Balaenicipitidae                      \n",
      "  ||                          |  /+\\+ |                                        \n",
      "  ||                          |  || | \\- Scopidae                              \n",
      "  ||                          |  || |                                          \n",
      "  ||                          |  || \\--- Threskiornithidae                     \n",
      "  ||                          |  ||                                            \n",
      "  ||                          | /+\\----- Ciconiidae                            \n",
      "  ||                          | ||                                             \n",
      "  ||                          | ||     / Procellariidae                        \n",
      "  ||                          | ||   /++                                       \n",
      "  ||                          | ||/+++ \\ Pelecanoididae                        \n",
      "  ||                          |/+||  |                                         \n",
      "  ||                          |||\\+  \\-- Diomedeidae                           \n",
      "  ||                          ||| |                                            \n",
      "  ||                          ||| \\----+ Spheniscidae                          \n",
      "  ||                          \\+|                                              \n",
      "  ||                           |\\------+ Gaviidae                              \n",
      "  ||                           |                                               \n",
      "  ||                           |       / Rhynochetidae                         \n",
      " /+|                           |      /+                                       \n",
      " |||                           \\------+\\ Eurypygidae                           \n",
      " |||                                  |                                        \n",
      " |||                                  \\- Phaethontidae                         \n",
      " |||                                                                           \n",
      " |||                                 /++ Heliornithidae                        \n",
      " ||\\---------------------------------+                                         \n",
      " ||                                  |/- Psophiidae                            \n",
      " ||                                  \\+                                        \n",
      " ||                                   |/ Gruidae                               \n",
      " ||                                   \\+                                       \n",
      " ||                                    \\ Aramidae                              \n",
      " ||                                                                            \n",
      " ||                           /--------- Otididae                              \n",
      " ||                           |                                                \n",
      " ||                          /+ /+++++++ Coccyzidae                            \n",
      " ||                          ||/+                                              \n",
      " ||                          |||\\------+ Centropidae                           \n",
      " ||                          |\\+                                               \n",
      " ||                         /+ |       / Crotophagidae                         \n",
      "/+|                         || \\-------+                                       \n",
      "|||                         ||         \\ MRCA of taxa in Neomorphidae          \n",
      "||\\-------------------------+|                                                 \n",
      "||                          |\\---------+ Musophagidae                          \n",
      "||                          |                                                  \n",
      "||                          |  /++++++++ Raphidae                              \n",
      "||                          \\--+                                               \n",
      "||                             |       / Pteroclidae                           \n",
      "||                             \\-------+                                       \n",
      "||                                     \\ Mesitornithidae                       \n",
      "||                                                                             \n",
      "||                                     / Trochilidae                           \n",
      "||                                    /+                                       \n",
      "||                                   /+\\ Apodidae                              \n",
      "||                                   ||                                        \n",
      "||                                  /+\\- Aegothelidae                          \n",
      "||                                  ||                                         \n",
      "+|                                 /+\\++ Podargidae                            \n",
      "||                                 ||                                          \n",
      "||                                 ||  / Nyctibiidae                           \n",
      "|\\---------------------------------+\\--+                                       \n",
      "|                                  |   \\ Steatornithidae                       \n",
      "|                                  |                                           \n",
      "|                                  |   / Caprimulgidae                         \n",
      "|                                  \\---+                                       \n",
      "|                                      \\ Eurostopodidae                        \n",
      "|                                                                              \n",
      "|                                    /++ Odontophoridae                        \n",
      "|                                   /+                                         \n",
      "|                                /+++\\-- Numididae                             \n",
      "|                                |  |                                          \n",
      "|                               /+  \\--- Cracidae                              \n",
      "+                               ||                                             \n",
      "|                               |\\------ Sylviornithidae                       \n",
      "|-------------------------------+                                              \n",
      "|                               |     /- Anatidae                              \n",
      "|                               |    /+                                        \n",
      "|                               \\----+\\+ Anseranatidae                         \n",
      "|                                    |                                         \n",
      "|                                    \\-- Anhimidae                             \n",
      "|                                                                              \n",
      "|                                    /++ Apterygidae                           \n",
      "|                                   /+                                         \n",
      "|                                   || / Casuariidae                           \n",
      "|                                  /+\\-+                                       \n",
      "|                                  ||  \\ Dromaiidae                            \n",
      "|                                 /+|                                          \n",
      "|                                 ||\\+++ Tinamidae                             \n",
      "\\---------------------------------+|                                           \n",
      "                                  |\\---+ Rheidae                               \n",
      "                                  |                                            \n",
      "                                  \\----- Struthionidae                         \n",
      "                                                                               \n",
      "                                                                               \n"
     ]
    }
   ],
   "source": [
    "ret['labelled_tree'].print_plot()"
   ]
  },
  {
   "cell_type": "markdown",
   "metadata": {},
   "source": [
    "# We can investigate the unknown ids (they are often pruned from the tree because they have no living )"
   ]
  },
  {
   "cell_type": "code",
   "execution_count": 18,
   "metadata": {},
   "outputs": [
    {
     "ename": "AttributeError",
     "evalue": "'OpenTree' object has no attribute 'node_info'",
     "output_type": "error",
     "traceback": [
      "\u001b[0;31m---------------------------------------------------------------------------\u001b[0m",
      "\u001b[0;31mAttributeError\u001b[0m                            Traceback (most recent call last)",
      "\u001b[0;32m<ipython-input-18-0f43d6a77ad2>\u001b[0m in \u001b[0;36m<module>\u001b[0;34m\u001b[0m\n\u001b[0;32m----> 1\u001b[0;31m \u001b[0mresp\u001b[0m \u001b[0;34m=\u001b[0m \u001b[0mOT\u001b[0m\u001b[0;34m.\u001b[0m\u001b[0mnode_info\u001b[0m\u001b[0;34m(\u001b[0m\u001b[0mott_id\u001b[0m\u001b[0;34m=\u001b[0m\u001b[0;36m3607673\u001b[0m\u001b[0;34m,\u001b[0m \u001b[0minclude_terminal_descendants\u001b[0m\u001b[0;34m=\u001b[0m\u001b[0;32mTrue\u001b[0m\u001b[0;34m)\u001b[0m\u001b[0;34m\u001b[0m\u001b[0;34m\u001b[0m\u001b[0m\n\u001b[0m",
      "\u001b[0;31mAttributeError\u001b[0m: 'OpenTree' object has no attribute 'node_info'"
     ]
    }
   ],
   "source": [
    "resp = OT.taxon_info(ott_id=3607673, include_terminal_descendants=True)"
   ]
  },
  {
   "cell_type": "code",
   "execution_count": 17,
   "metadata": {},
   "outputs": [
    {
     "data": {
      "text/plain": [
       "{'flags': ['extinct', 'sibling_higher'],\n",
       " 'is_suppressed': False,\n",
       " 'is_suppressed_from_synth': False,\n",
       " 'name': 'Homo rudolfensis',\n",
       " 'ott_id': 3607673,\n",
       " 'rank': 'species',\n",
       " 'source': 'ott3.2draft9',\n",
       " 'synonyms': ['Kenyanthropus rudolfensis'],\n",
       " 'tax_sources': ['gbif:4827581', 'irmng:11089734'],\n",
       " 'terminal_descendants': [3607673],\n",
       " 'unique_name': 'Homo rudolfensis'}"
      ]
     },
     "execution_count": 17,
     "metadata": {},
     "output_type": "execute_result"
    }
   ],
   "source": [
    "resp.response_dict"
   ]
  },
  {
   "cell_type": "code",
   "execution_count": 29,
   "metadata": {},
   "outputs": [
    {
     "data": {
      "text/plain": [
       "{'flags': ['extinct'],\n",
       " 'is_suppressed': False,\n",
       " 'is_suppressed_from_synth': False,\n",
       " 'name': 'Apatosagittarius terrenus',\n",
       " 'ott_id': 7658615,\n",
       " 'rank': 'species',\n",
       " 'source': 'ott3.2draft9',\n",
       " 'synonyms': [],\n",
       " 'tax_sources': ['gbif:9441055'],\n",
       " 'unique_name': 'Apatosagittarius terrenus'}"
      ]
     },
     "execution_count": 29,
     "metadata": {},
     "output_type": "execute_result"
    }
   ],
   "source": [
    "unk = 'ott7658615'\n",
    "resp = OT.taxon_info(ott_id=unk)\n",
    "resp.response_dict"
   ]
  },
  {
   "cell_type": "code",
   "execution_count": 28,
   "metadata": {},
   "outputs": [
    {
     "data": {
      "text/plain": [
       "{'flags': ['extinct'],\n",
       " 'is_suppressed': False,\n",
       " 'is_suppressed_from_synth': False,\n",
       " 'name': 'Apatosagittarius terrenus',\n",
       " 'ott_id': 7658615,\n",
       " 'rank': 'species',\n",
       " 'source': 'ott3.2draft9',\n",
       " 'synonyms': [],\n",
       " 'tax_sources': ['gbif:9441055'],\n",
       " 'unique_name': 'Apatosagittarius terrenus',\n",
       " 'url': 'https://tree.opentreeoflife.org/taxonomy/browse?id=7658615'}"
      ]
     },
     "execution_count": 28,
     "metadata": {},
     "output_type": "execute_result"
    }
   ],
   "source": [
    "uid = unk\n",
    "tax_inf = OT.taxon_info(ott_id=uid).response_dict\n",
    "tax_inf['url'] = \"https://tree.opentreeoflife.org/taxonomy/browse?id={}\".format(uid)\n",
    "tax_inf"
   ]
  },
  {
   "cell_type": "markdown",
   "metadata": {},
   "source": [
    "## Doing some digging into the taxa that are missing, all descendents are extinct, so we don't have a good placement for it, and have dropped it"
   ]
  },
  {
   "cell_type": "code",
   "execution_count": 7,
   "metadata": {},
   "outputs": [],
   "source": [
    "labelled_tree.write(path=\"tmp.tre\", schema=\"newick\")"
   ]
  },
  {
   "cell_type": "code",
   "execution_count": 17,
   "metadata": {},
   "outputs": [],
   "source": [
    "tips = [tip.taxon.label for tip in labelled_tree.leaf_node_iter()]\n",
    "nodes = [node.label for node in labelled_tree.preorder_node_iter()]"
   ]
  },
  {
   "cell_type": "code",
   "execution_count": 18,
   "metadata": {},
   "outputs": [],
   "source": [
    "alltax = set(tips+nodes+list(unknowns))"
   ]
  },
  {
   "cell_type": "code",
   "execution_count": 19,
   "metadata": {},
   "outputs": [],
   "source": [
    "alltax.remove(None)"
   ]
  },
  {
   "cell_type": "code",
   "execution_count": 20,
   "metadata": {},
   "outputs": [],
   "source": [
    "otts = [tip.split()[-1] for tip in alltax]"
   ]
  },
  {
   "cell_type": "code",
   "execution_count": 21,
   "metadata": {},
   "outputs": [
    {
     "data": {
      "text/plain": [
       "1853"
      ]
     },
     "execution_count": 21,
     "metadata": {},
     "output_type": "execute_result"
    }
   ],
   "source": [
    "len(alltax) + len(unknowns)"
   ]
  },
  {
   "cell_type": "code",
   "execution_count": 22,
   "metadata": {},
   "outputs": [
    {
     "data": {
      "text/plain": [
       "1868"
      ]
     },
     "execution_count": 22,
     "metadata": {},
     "output_type": "execute_result"
    }
   ],
   "source": [
    "len(bird_genera)"
   ]
  },
  {
   "cell_type": "code",
   "execution_count": null,
   "metadata": {},
   "outputs": [],
   "source": []
  }
 ],
 "metadata": {
  "kernelspec": {
   "display_name": "opentree",
   "language": "python",
   "name": "opentree"
  },
  "language_info": {
   "codemirror_mode": {
    "name": "ipython",
    "version": 3
   },
   "file_extension": ".py",
   "mimetype": "text/x-python",
   "name": "python",
   "nbconvert_exporter": "python",
   "pygments_lexer": "ipython3",
   "version": "3.8.5"
  }
 },
 "nbformat": 4,
 "nbformat_minor": 4
}
