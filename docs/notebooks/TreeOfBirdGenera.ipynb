{
 "cells": [
  {
   "cell_type": "code",
   "execution_count": 1,
   "metadata": {},
   "outputs": [],
   "source": [
    "from opentree import OT, taxonomy_helpers, util"
   ]
  },
  {
   "cell_type": "code",
   "execution_count": 2,
   "metadata": {},
   "outputs": [],
   "source": []
  },
  {
   "cell_type": "code",
   "execution_count": 3,
   "metadata": {},
   "outputs": [],
   "source": [
    "aves = OT.get_ottid_from_name('Aves')"
   ]
  },
  {
   "cell_type": "code",
   "execution_count": 4,
   "metadata": {},
   "outputs": [
    {
     "name": "stdout",
     "output_type": "stream",
     "text": [
      "Gathering ott ids from group with ott id 81461...\n",
      "81461\n"
     ]
    }
   ],
   "source": [
    "cleaned = taxonomy_helpers.clean_taxonomy_file(taxonomy_file=\"../ott3.2/taxonomy.tsv\")\n",
    "bird_genera = taxonomy_helpers.get_ott_ids_group_and_rank(group_ott_id=aves, rank='genus', taxonomy_file=cleaned)\n",
    "#Check if these are in tree\n"
   ]
  },
  {
   "cell_type": "code",
   "execution_count": 16,
   "metadata": {},
   "outputs": [],
   "source": [
    "node_ids = [\"ott\"+idnum for idnum in bird_genera]\n",
    "node_resp = OT.synth_node_info(node_ids = node_ids)"
   ]
  },
  {
   "cell_type": "code",
   "execution_count": 17,
   "metadata": {},
   "outputs": [],
   "source": [
    "node_infos = node_resp.response_dict"
   ]
  },
  {
   "cell_type": "code",
   "execution_count": 21,
   "metadata": {},
   "outputs": [
    {
     "data": {
      "text/plain": [
       "{'ott3596090': 'pruned_ott_id',\n",
       " 'ott3599492': 'pruned_ott_id',\n",
       " 'ott3601077': 'pruned_ott_id',\n",
       " 'ott3601289': 'pruned_ott_id',\n",
       " 'ott3601918': 'pruned_ott_id',\n",
       " 'ott3602030': 'pruned_ott_id',\n",
       " 'ott3602452': 'pruned_ott_id',\n",
       " 'ott3602574': 'pruned_ott_id',\n",
       " 'ott3603064': 'pruned_ott_id',\n",
       " 'ott3603824': 'pruned_ott_id',\n",
       " 'ott3604346': 'pruned_ott_id',\n",
       " 'ott3604371': 'pruned_ott_id',\n",
       " 'ott3604386': 'pruned_ott_id',\n",
       " 'ott3604692': 'pruned_ott_id',\n",
       " 'ott3605323': 'pruned_ott_id',\n",
       " 'ott4130566': 'pruned_ott_id',\n",
       " 'ott4947431': 'pruned_ott_id',\n",
       " 'ott7663235': 'pruned_ott_id'}"
      ]
     },
     "execution_count": 21,
     "metadata": {},
     "output_type": "execute_result"
    }
   ],
   "source": [
    "node_infos['unknown']"
   ]
  },
  {
   "cell_type": "code",
   "execution_count": 23,
   "metadata": {},
   "outputs": [],
   "source": [
    "node_ids = set(node_ids)\n",
    "for node in node_infos['unknown']:\n",
    "    node_ids.remove(node)"
   ]
  },
  {
   "cell_type": "code",
   "execution_count": 24,
   "metadata": {},
   "outputs": [],
   "source": [
    "node_resp = OT.synth_node_info(node_ids = node_ids)"
   ]
  },
  {
   "cell_type": "code",
   "execution_count": 25,
   "metadata": {},
   "outputs": [],
   "source": [
    "node_infos = node_resp.response_dict"
   ]
  },
  {
   "cell_type": "code",
   "execution_count": 29,
   "metadata": {},
   "outputs": [],
   "source": [
    "nonmon = 0\n",
    "for node in node_infos:\n",
    "    if node['node_id'] != node['query']:\n",
    "        nonmon += 1"
   ]
  },
  {
   "cell_type": "code",
   "execution_count": 30,
   "metadata": {},
   "outputs": [
    {
     "data": {
      "text/plain": [
       "260"
      ]
     },
     "execution_count": 30,
     "metadata": {},
     "output_type": "execute_result"
    }
   ],
   "source": [
    "nonmon"
   ]
  },
  {
   "cell_type": "code",
   "execution_count": 5,
   "metadata": {},
   "outputs": [
    {
     "data": {
      "text/plain": [
       "1868"
      ]
     },
     "execution_count": 5,
     "metadata": {},
     "output_type": "execute_result"
    }
   ],
   "source": [
    "len(bird_genera)"
   ]
  },
  {
   "cell_type": "code",
   "execution_count": 6,
   "metadata": {
    "scrolled": false
   },
   "outputs": [
    {
     "name": "stderr",
     "output_type": "stream",
     "text": [
      "\n",
      "Unknown/unrecognized query ids (skipped):\n",
      " ott3596090\n",
      "ott3599492\n",
      "ott3601077\n",
      "ott3601289\n",
      "ott3601918\n",
      "ott3602030\n",
      "ott3602452\n",
      "ott3602574\n",
      "ott3603064\n",
      "ott3603824\n",
      "ott3604346\n",
      "ott3604371\n",
      "ott3604386\n",
      "ott3604692\n",
      "ott3605323\n",
      "ott4130566\n",
      "ott4947431\n",
      "ott7663235 \n",
      "taxon MRCA of taxa in Calliope is an internal node\n",
      "taxon MRCA of taxa in Thryothorus is an internal node\n",
      "taxon MRCA of taxa in Henicorhina is an internal node\n",
      "taxon MRCA of taxa in Microcerculus is an internal node\n",
      "taxon MRCA of taxa in Troglodytes is an internal node\n",
      "taxon MRCA of taxa in Muscicapa Brachypteryx is an internal node\n",
      "taxon MRCA of taxa in Ficedula is an internal node\n",
      "taxon MRCA of taxa in Luscinia is an internal node\n",
      "taxon MRCA of taxa in Phoenicurus is an internal node\n",
      "taxon MRCA of taxa in Monticola is an internal node\n",
      "taxon MRCA of taxa in Cossypha is an internal node\n",
      "taxon MRCA of taxa in Alethe is an internal node\n",
      "taxon MRCA of taxa in Cyornis Rhinomyias is an internal node\n",
      "taxon MRCA of taxa in Fraseria is an internal node\n",
      "taxon MRCA of taxa in Melaenornis is an internal node\n",
      "taxon MRCA of taxa in Zoothera is an internal node\n",
      "taxon MRCA of taxa in Turdus is an internal node\n",
      "taxon MRCA of taxa in Neocossyphus is an internal node\n",
      "taxon MRCA of taxa in Ploceus is an internal node\n",
      "taxon MRCA of taxa in Diuca Saltator is an internal node\n",
      "taxon MRCA of taxa in Thraupis is an internal node\n",
      "taxon MRCA of taxa in Buthraupis is an internal node\n",
      "taxon MRCA of taxa in Ammodramus Aimophila is an internal node\n",
      "taxon MRCA of taxa in Melozone is an internal node\n",
      "taxon MRCA of taxa in Atlapetes is an internal node\n",
      "taxon MRCA of taxa in Basileuterus is an internal node\n",
      "taxon MRCA of taxa in Oreothlypis is an internal node\n",
      "taxon MRCA of taxa in Agelaius is an internal node\n",
      "taxon MRCA of taxa in Molothrus is an internal node\n",
      "taxon MRCA of taxa in Curaeus is an internal node\n",
      "taxon MRCA of taxa in Chrysomus is an internal node\n",
      "taxon MRCA of taxa in Dives is an internal node\n",
      "taxon MRCA of taxa in Cacicus is an internal node\n",
      "taxon MRCA of taxa in Psarocolius is an internal node\n",
      "taxon MRCA of taxa in Pinicola Carpodacus is an internal node\n",
      "taxon MRCA of taxa in Serinus is an internal node\n",
      "taxon MRCA of taxa in Hemignathus is an internal node\n",
      "taxon MRCA of taxa in Anthus is an internal node\n",
      "taxon MRCA of taxa in Sylvia is an internal node\n",
      "taxon MRCA of taxa in Garrulax is an internal node\n",
      "taxon MRCA of taxa in Actinodura is an internal node\n",
      "taxon MRCA of taxa in Pellorneum is an internal node\n",
      "taxon MRCA of taxa in Zosterops is an internal node\n",
      "taxon MRCA of taxa in Lophozosterops is an internal node\n",
      "taxon MRCA of taxa in Notiochelidon Atticora is an internal node\n",
      "taxon MRCA of taxa in Bradypterus Locustella is an internal node\n",
      "taxon MRCA of taxa in Cincloramphus is an internal node\n",
      "taxon MRCA of taxa in Oreolais is an internal node\n",
      "taxon MRCA of taxa in Melanocorypha Eremalauda is an internal node\n",
      "taxon MRCA of taxa in Calandrella is an internal node\n",
      "taxon MRCA of taxa in Spizocorys is an internal node\n",
      "taxon MRCA of taxa in Ammomanes is an internal node\n",
      "taxon MRCA of taxa in Anthoscopus is an internal node\n",
      "taxon MRCA of taxa in Petroica is an internal node\n",
      "taxon MRCA of taxa in Eopsaltria is an internal node\n",
      "taxon MRCA of taxa in Peneothello is an internal node\n",
      "taxon MRCA of taxa in Lanius is an internal node\n",
      "taxon MRCA of taxa in Monarcha is an internal node\n",
      "taxon MRCA of taxa in Pomarea is an internal node\n",
      "taxon MRCA of taxa in Mayrornis is an internal node\n",
      "taxon MRCA of taxa in Epimachus is an internal node\n",
      "taxon MRCA of taxa in Ptiloris is an internal node\n",
      "taxon MRCA of taxa in Telophorus is an internal node\n",
      "taxon MRCA of taxa in Batis is an internal node\n",
      "taxon MRCA of taxa in Dyaphorophyia is an internal node\n",
      "taxon MRCA of taxa in Bias is an internal node\n",
      "taxon MRCA of taxa in Coracina is an internal node\n",
      "taxon MRCA of taxa in Sericornis is an internal node\n",
      "taxon MRCA of taxa in Amblyornis is an internal node\n",
      "taxon MRCA of taxa in Xenops is an internal node\n",
      "taxon MRCA of taxa in Upucerthia is an internal node\n",
      "taxon MRCA of taxa in Asthenes is an internal node\n",
      "taxon MRCA of taxa in Thripophaga Cranioleuca is an internal node\n",
      "taxon MRCA of taxa in Synallaxis is an internal node\n",
      "taxon MRCA of taxa in Schizoeaca is an internal node\n",
      "taxon MRCA of taxa in Leptasthenura is an internal node\n",
      "taxon MRCA of taxa in Automolus Philydor is an internal node\n",
      "taxon MRCA of taxa in Hylocryptus is an internal node\n",
      "taxon MRCA of taxa in Syndactyla is an internal node\n",
      "taxon MRCA of taxa in Campylorhamphus is an internal node\n",
      "taxon MRCA of taxa in Xiphorhynchus is an internal node\n",
      "taxon MRCA of taxa in Deconychura is an internal node\n",
      "taxon MRCA of taxa in Gymnopithys is an internal node\n",
      "taxon MRCA of taxa in Phlegopsis is an internal node\n",
      "taxon MRCA of taxa in Drymophila is an internal node\n",
      "taxon MRCA of taxa in Myrmeciza is an internal node\n",
      "taxon MRCA of taxa in Dysithamnus is an internal node\n",
      "taxon MRCA of taxa in Xenopipo is an internal node\n",
      "taxon MRCA of taxa in Chiroxiphia is an internal node\n",
      "taxon MRCA of taxa in Corapipo is an internal node\n",
      "taxon MRCA of taxa in Pipra is an internal node\n",
      "taxon MRCA of taxa in Lipaugus is an internal node\n",
      "taxon MRCA of taxa in Pitta is an internal node\n",
      "taxon MRCA of taxa in Eurylaimus is an internal node\n",
      "taxon MRCA of taxa in Xenicus is an internal node\n",
      "taxon MRCA of taxa in Glossopsitta is an internal node\n",
      "taxon MRCA of taxa in Psitteuteles is an internal node\n",
      "taxon MRCA of taxa in Chalcopsitta is an internal node\n",
      "taxon MRCA of taxa in Charmosyna is an internal node\n",
      "taxon MRCA of taxa in Psittaculirostris is an internal node\n",
      "taxon MRCA of taxa in Psittacula is an internal node\n",
      "taxon MRCA of taxa in Tanygnathus is an internal node\n",
      "taxon MRCA of taxa in Polytelis is an internal node\n",
      "taxon MRCA of taxa in Psittacara is an internal node\n",
      "taxon MRCA of taxa in Bolborhynchus is an internal node\n",
      "taxon MRCA of taxa in Touit is an internal node\n",
      "taxon MRCA of taxa in Coracopsis is an internal node\n",
      "taxon MRCA of taxa in Falco is an internal node\n",
      "taxon MRCA of taxa in Milvago is an internal node\n",
      "taxon MRCA of taxa in Otus is an internal node\n",
      "taxon MRCA of taxa in Strix is an internal node\n",
      "taxon MRCA of taxa in Bubo is an internal node\n",
      "taxon MRCA of taxa in Asio is an internal node\n",
      "taxon MRCA of taxa in Ninox is an internal node\n",
      "taxon MRCA of taxa in Glaucidium is an internal node\n",
      "taxon MRCA of taxa in Aceros is an internal node\n",
      "taxon MRCA of taxa in Picoides Dendrocopos is an internal node\n",
      "taxon MRCA of taxa in Dendropicos is an internal node\n",
      "taxon MRCA of taxa in Melanerpes is an internal node\n",
      "taxon MRCA of taxa in Campethera is an internal node\n",
      "taxon MRCA of taxa in Pteroglossus is an internal node\n",
      "taxon MRCA of taxa in Selenidera is an internal node\n",
      "taxon MRCA of taxa in Megalaima is an internal node\n",
      "taxon MRCA of taxa in Ceyx Corythornis Alcedo is an internal node\n",
      "taxon MRCA of taxa in Halcyon is an internal node\n",
      "taxon MRCA of taxa in Spizaetus is an internal node\n",
      "taxon MRCA of taxa in Aquila is an internal node\n",
      "taxon MRCA of taxa in Hieraaetus is an internal node\n",
      "taxon MRCA of taxa in Accipiter is an internal node\n",
      "taxon MRCA of taxa in Leucopternis is an internal node\n",
      "taxon MRCA of taxa in Buteo is an internal node\n",
      "taxon MRCA of taxa in Buteogallus is an internal node\n",
      "taxon MRCA of taxa in Circaetus is an internal node\n",
      "taxon MRCA of taxa in Aviceda is an internal node\n",
      "taxon MRCA of taxa in Aethia is an internal node\n",
      "taxon MRCA of taxa in Podiceps is an internal node\n",
      "taxon MRCA of taxa in Gorsachius is an internal node\n",
      "taxon MRCA of taxa in Ardea is an internal node\n",
      "taxon MRCA of taxa in Ixobrychus is an internal node\n",
      "taxon MRCA of taxa in Palaeeudyptes is an internal node\n",
      "taxon MRCA of taxa in Fulica Gallinula Gallirallus Porzana Amaurornis is an internal node\n",
      "taxon MRCA of taxa in Anurolimnas is an internal node\n",
      "taxon MRCA of taxa in Laterallus is an internal node\n",
      "taxon MRCA of taxa in Grus is an internal node\n",
      "taxon MRCA of taxa in Neotis is an internal node\n",
      "taxon MRCA of taxa in Coccyzus is an internal node\n",
      "taxon MRCA of taxa in Cuculus is an internal node\n",
      "taxon MRCA of taxa in Chrysococcyx is an internal node\n",
      "taxon MRCA of taxa in Tauraco is an internal node\n",
      "taxon MRCA of taxa in Gallicolumba is an internal node\n",
      "taxon MRCA of taxa in Ptilinopus is an internal node\n",
      "taxon MRCA of taxa in Streptopelia is an internal node\n",
      "taxon MRCA of taxa in Geotrygon is an internal node\n",
      "taxon MRCA of taxa in Claravis is an internal node\n",
      "taxon MRCA of taxa in Columbina is an internal node\n",
      "taxon MRCA of taxa in Hylocharis Campylopterus is an internal node\n",
      "taxon MRCA of taxa in Leucippus is an internal node\n",
      "taxon MRCA of taxa in Amazilia is an internal node\n",
      "taxon MRCA of taxa in Lepidopyga is an internal node\n",
      "taxon MRCA of taxa in Thalurania is an internal node\n",
      "taxon MRCA of taxa in Cynanthus is an internal node\n",
      "taxon MRCA of taxa in Chlorostilbon is an internal node\n",
      "taxon MRCA of taxa in Calliphlox is an internal node\n",
      "taxon MRCA of taxa in Chaetocercus is an internal node\n",
      "taxon MRCA of taxa in Selasphorus is an internal node\n",
      "taxon MRCA of taxa in Heliangelus is an internal node\n",
      "taxon MRCA of taxa in Chalcostigma is an internal node\n",
      "taxon MRCA of taxa in Heliodoxa is an internal node\n",
      "taxon MRCA of taxa in Eriocnemis is an internal node\n",
      "taxon MRCA of taxa in Anthracothorax is an internal node\n",
      "taxon MRCA of taxa in Collocalia is an internal node\n",
      "taxon MRCA of taxa in Batrachostomus is an internal node\n",
      "taxon MRCA of taxa in Caprimulgus is an internal node\n",
      "taxon MRCA of taxa in Chordeiles is an internal node\n",
      "taxon MRCA of taxa in Francolinus is an internal node\n",
      "taxon MRCA of taxa in Falcipennis is an internal node\n",
      "taxon MRCA of taxa in Coturnix is an internal node\n",
      "taxon MRCA of taxa in Pipile is an internal node\n",
      "taxon MRCA of taxa in Pauxi is an internal node\n",
      "taxon MRCA of taxa in Netta is an internal node\n",
      "taxon MRCA of taxa in Anas is an internal node\n",
      "taxon MRCA of taxa in Tadorna is an internal node\n",
      "taxon MRCA of taxa in Chloephaga is an internal node\n"
     ]
    }
   ],
   "source": [
    "labelled_tree, unknowns = taxonomy_helpers.synth_label_broken_taxa(ott_ids = bird_genera, label_format=\"name\")"
   ]
  },
  {
   "cell_type": "markdown",
   "metadata": {},
   "source": [
    "## Doing some digging into the taxa that are missing, all descendents are extinct, so we don't have a good placement for it, and have dropped it"
   ]
  },
  {
   "cell_type": "code",
   "execution_count": 7,
   "metadata": {},
   "outputs": [],
   "source": [
    "labelled_tree.write(path=\"tmp.tre\", schema=\"newick\")"
   ]
  },
  {
   "cell_type": "code",
   "execution_count": 17,
   "metadata": {},
   "outputs": [],
   "source": [
    "tips = [tip.taxon.label for tip in labelled_tree.leaf_node_iter()]\n",
    "nodes = [node.label for node in labelled_tree.preorder_node_iter()]"
   ]
  },
  {
   "cell_type": "code",
   "execution_count": 18,
   "metadata": {},
   "outputs": [],
   "source": [
    "alltax = set(tips+nodes+list(unknowns))"
   ]
  },
  {
   "cell_type": "code",
   "execution_count": 19,
   "metadata": {},
   "outputs": [],
   "source": [
    "alltax.remove(None)"
   ]
  },
  {
   "cell_type": "code",
   "execution_count": 20,
   "metadata": {},
   "outputs": [],
   "source": [
    "otts = [tip.split()[-1] for tip in alltax]"
   ]
  },
  {
   "cell_type": "code",
   "execution_count": 21,
   "metadata": {},
   "outputs": [
    {
     "data": {
      "text/plain": [
       "1853"
      ]
     },
     "execution_count": 21,
     "metadata": {},
     "output_type": "execute_result"
    }
   ],
   "source": [
    "len(alltax) + len(unknowns)"
   ]
  },
  {
   "cell_type": "code",
   "execution_count": 22,
   "metadata": {},
   "outputs": [
    {
     "data": {
      "text/plain": [
       "1868"
      ]
     },
     "execution_count": 22,
     "metadata": {},
     "output_type": "execute_result"
    }
   ],
   "source": [
    "len(bird_genera)"
   ]
  },
  {
   "cell_type": "code",
   "execution_count": null,
   "metadata": {},
   "outputs": [],
   "source": []
  }
 ],
 "metadata": {
  "kernelspec": {
   "display_name": "opentree",
   "language": "python",
   "name": "opentree"
  },
  "language_info": {
   "codemirror_mode": {
    "name": "ipython",
    "version": 3
   },
   "file_extension": ".py",
   "mimetype": "text/x-python",
   "name": "python",
   "nbconvert_exporter": "python",
   "pygments_lexer": "ipython3",
   "version": "3.8.5"
  }
 },
 "nbformat": 4,
 "nbformat_minor": 4
}
