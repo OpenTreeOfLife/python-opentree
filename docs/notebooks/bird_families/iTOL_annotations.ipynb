{
 "cells": [
  {
   "cell_type": "markdown",
   "metadata": {},
   "source": [
    "# Writing out annotations for the tree, for viewing on iTOL\n",
    "For processing annotations, it is simplest to use the tree with ids as labels, and then re-labelling later.\n",
    "\n"
   ]
  },
  {
   "cell_type": "code",
   "execution_count": 22,
   "metadata": {},
   "outputs": [],
   "source": [
    "from opentree import OT, taxonomy_helpers, util"
   ]
  },
  {
   "cell_type": "code",
   "execution_count": 23,
   "metadata": {},
   "outputs": [],
   "source": [
    "aves = OT.get_ottid_from_name('Aves')"
   ]
  },
  {
   "cell_type": "markdown",
   "metadata": {},
   "source": [
    "## Download the Open Tree of Life Taxonomy (OTT)\n",
    "\n",
    "You can download the OTT by going to https://tree.opentreeoflife.org/about/taxonomy-version/ott3.2\n",
    "or by running the following command.\n",
    "\n",
    "Set the `loc` argument to wherever you wany to store the taxonomy files."
   ]
  },
  {
   "cell_type": "code",
   "execution_count": 24,
   "metadata": {},
   "outputs": [
    {
     "name": "stdout",
     "output_type": "stream",
     "text": [
      "Taxonomy already available at ../../ott3.2"
     ]
    },
    {
     "data": {
      "text/plain": [
       "'../../ott3.2'"
      ]
     },
     "execution_count": 24,
     "metadata": {},
     "output_type": "execute_result"
    }
   ],
   "source": [
    "taxonomy_helpers.download_taxonomy_file(version = 3.2, loc = '../..')"
   ]
  },
  {
   "cell_type": "code",
   "execution_count": 25,
   "metadata": {},
   "outputs": [
    {
     "name": "stdout",
     "output_type": "stream",
     "text": [
      "Gathering ott ids from group with ott id 81461.\n"
     ]
    }
   ],
   "source": [
    "bird_families = taxonomy_helpers.get_ott_ids_group_and_rank(group_ott_id=aves, \n",
    "                                                            rank='family', \n",
    "                                                            taxonomy_file='../../ott3.2/taxonomy.tsv')"
   ]
  },
  {
   "cell_type": "code",
   "execution_count": 26,
   "metadata": {},
   "outputs": [],
   "source": [
    "ret = taxonomy_helpers.labelled_induced_synth(ott_ids = bird_families, label_format=\"name\", inc_unlabelled_mrca=True)\n",
    "ret['labelled_tree'].write(path=\"labelled_bird_families.tre\", schema=\"newick\")\n"
   ]
  },
  {
   "cell_type": "code",
   "execution_count": 27,
   "metadata": {},
   "outputs": [],
   "source": [
    "synth_tips = [leaf.taxon.label for leaf in ret['original_tree'].leaf_node_iter()]"
   ]
  },
  {
   "cell_type": "code",
   "execution_count": 28,
   "metadata": {},
   "outputs": [
    {
     "data": {
      "text/plain": [
       "20"
      ]
     },
     "execution_count": 28,
     "metadata": {},
     "output_type": "execute_result"
    }
   ],
   "source": [
    "synth_tips.sort()\n",
    "len(synth_tips[130:])"
   ]
  },
  {
   "cell_type": "code",
   "execution_count": 29,
   "metadata": {},
   "outputs": [],
   "source": [
    "# Get the label of every node in the output tree\n",
    "node_annotation = {}\n",
    "for node in ret['original_tree']:\n",
    "    if node.label:\n",
    "        node_annotation[node.label] = {}\n",
    "    elif node.taxon:\n",
    "        if node.taxon.label:\n",
    "            node_annotation[node.taxon.label] = {}\n",
    "    else:\n",
    "        print(node)"
   ]
  },
  {
   "cell_type": "code",
   "execution_count": 30,
   "metadata": {},
   "outputs": [],
   "source": [
    "for node_label in node_annotation:\n",
    "    node_annotation[node_label] = {}\n",
    "    node_annotation[node_label]['families'] = []\n",
    "    node_annotation[node_label]['studies'] = []\n",
    "    node_annotation[node_label]['strict_support'] = []\n",
    "    node_annotation[node_label]['support'] = []\n",
    "    node_annotation[node_label]['conflict'] = []\n",
    "    node_annotation[node_label]['total_descendents'] = 0"
   ]
  },
  {
   "cell_type": "code",
   "execution_count": 31,
   "metadata": {},
   "outputs": [],
   "source": [
    "nid_resp = dict()\n",
    "nids = [label.split()[-1] for label in node_annotation.keys()]\n",
    "resp = OT.synth_node_info(nids).response_dict\n",
    "for node_info in resp:\n",
    "    nid_resp[node_info['node_id']] = node_info"
   ]
  },
  {
   "cell_type": "code",
   "execution_count": 32,
   "metadata": {},
   "outputs": [],
   "source": [
    "i = 0\n",
    "for node in node_annotation:\n",
    "    i+=1\n",
    "    nid = node.split()[-1]\n",
    "    supporting = nid_resp[nid].get('source_id_map')\n",
    "    strict_support = nid_resp[nid].get('supported_by', {})\n",
    "    ppo = nid_resp[nid].get('partial_path_of', {})\n",
    "    conflict = nid_resp[nid].get('conflicts_with', [])\n",
    "    if supporting.keys() == set(['ott3.2draft9']):\n",
    "        node_annotation[node]['studies'] = 0\n",
    "    else:\n",
    "        node_annotation[node]['studies'] = len(supporting.keys())\n",
    "    if strict_support.keys() == set(['ott3.2draft9']):\n",
    "        node_annotation[node]['strict_support'] = 0\n",
    "    else:\n",
    "        node_annotation[node]['strict_support'] = len(strict_support.keys())\n",
    "    gen_support = set(list(strict_support.keys()) + list(ppo.keys()))\n",
    "    if 'ott3.2draft9' in gen_support:\n",
    "        gen_support.remove('ott3.2draft9')\n",
    "    node_annotation[node]['support'] = len(gen_support)\n",
    "    node_annotation[node]['conflict'] = len(conflict)\n"
   ]
  },
  {
   "cell_type": "code",
   "execution_count": 33,
   "metadata": {},
   "outputs": [
    {
     "name": "stdout",
     "output_type": "stream",
     "text": [
      "10357\n"
     ]
    }
   ],
   "source": [
    "total_descendents = 0\n",
    "desc = []\n",
    "for tip in synth_tips:\n",
    "    nid = tip.split()[-1]\n",
    "    total_descendents += nid_resp[nid]['num_tips']\n",
    "    node_annotation[tip]['total_descendents'] = int(nid_resp[nid]['num_tips'])\n",
    "    desc.append(int(nid_resp[nid]['num_tips']))\n",
    "\n",
    "print(total_descendents)"
   ]
  },
  {
   "cell_type": "code",
   "execution_count": 34,
   "metadata": {},
   "outputs": [
    {
     "name": "stdout",
     "output_type": "stream",
     "text": [
      "17\n",
      "20\n"
     ]
    }
   ],
   "source": [
    "max_conf=0\n",
    "max_support=0\n",
    "support = []\n",
    "for node in node_annotation:\n",
    "    support.append(node_annotation[node]['support'])\n",
    "    if node_annotation[node]['conflict'] > max_conf:\n",
    "        max_conf = node_annotation[node]['conflict']\n",
    "    if node_annotation[node]['support'] > max_support:\n",
    "        max_support = node_annotation[node]['support']\n",
    "\n",
    "\n",
    "        \n",
    "\n",
    "print(max_conf)\n",
    "print(max_support)\n"
   ]
  },
  {
   "cell_type": "code",
   "execution_count": 35,
   "metadata": {},
   "outputs": [],
   "source": [
    "fi = open(\"conflict_anno.txt\", 'w')\n",
    "startstr = \"\"\"DATASET_STYLE\n",
    "SEPARATOR TAB\n",
    "\n",
    "#label is used in the legend table (can be changed later)\n",
    "DATASET_LABEL\\t{}\n",
    "\n",
    "#dataset color (can be changed later)\n",
    "COLOR\\t#ffff00\n",
    "\n",
    "DATA\\n\"\"\".format(\"conflict\")\n",
    "fi.write(startstr)\n",
    "for node in node_annotation:\n",
    "    node_label = ret['label_map'][node].replace(' ','_')\n",
    "    relconf = node_annotation[node]['conflict']/10\n",
    "    r = 255*relconf\n",
    "    g = 0\n",
    "    b = 0\n",
    "    color = \"rgba({}, {}, {}, {})\".format(r, g, b, 0.5+relconf)\n",
    "    fi.write(\"{}\\tbranch\\tclade\\t{}\\t1\\tnormal\\n\".format(node_label, color))\n",
    "        \n",
    "fi.close()"
   ]
  },
  {
   "cell_type": "code",
   "execution_count": 36,
   "metadata": {},
   "outputs": [],
   "source": [
    "fi = open(\"support_anno.txt\", 'w')\n",
    "startstr = \"\"\"DATASET_STYLE\n",
    "SEPARATOR TAB\n",
    "\n",
    "#label is used in the legend table (can be changed later)\n",
    "DATASET_LABEL\\t{}\n",
    "\n",
    "#dataset color (can be changed later)\n",
    "COLOR\\t#ffff00\n",
    "\n",
    "DATA\\n\"\"\".format(\"Support\")\n",
    "fi.write(startstr)\n",
    "for node in node_annotation:\n",
    "    node_label = ret['label_map'][node].replace(' ','_')\n",
    "    if node_annotation[node]['support']:\n",
    "        relsupport = node_annotation[node]['support']/20\n",
    "        r = 0\n",
    "        g = 255*relsupport\n",
    "        b = 0\n",
    "        color = \"rgba({}, {}, {}, {})\".format(r, g, b, 0.5+relsupport)\n",
    "        fi.write(\"{}\\tbranch\\tclade\\t{}\\t1\\tnormal\\n\".format(node_label,color))\n",
    "    else:\n",
    "        color = \"rgba(0, 0, 0, 0.15)\"\n",
    "        fi.write(\"{}\\tbranch\\tclade\\t{}\\t1\\tnormal\\n\".format(node_label,color))\n",
    "fi.close()"
   ]
  },
  {
   "cell_type": "code",
   "execution_count": 37,
   "metadata": {},
   "outputs": [],
   "source": [
    "fi = open(\"log_descendent_heatmap.txt\", 'w')\n",
    "import math\n",
    "startstr = \"\"\"DATASET_HEATMAP\n",
    "#In heatmaps, each ID is associated to multiple numeric values, which are displayed as a set of colored boxes defined by a color gradient\n",
    "#lines starting with a hash are comments and ignored during parsing\n",
    "#=================================================================#\n",
    "#                    MANDATORY SETTINGS                           #\n",
    "#=================================================================#\n",
    "#select the separator which is used to delimit the data below (TAB,SPACE or COMMA).This separator must be used throughout this file (except in the SEPARATOR line, which uses space).\n",
    "#SEPARATOR TAB\n",
    "SEPARATOR SPACE\n",
    "#SEPARATOR COMMA\n",
    "\n",
    "#label is used in the legend table (can be changed later)\n",
    "DATASET_LABEL LOG_number_of_descendante\n",
    "\n",
    "#dataset color (can be changed later)\n",
    "COLOR #ff0000\n",
    "\n",
    "#define labels for each individual field column\n",
    "FIELD_LABELS number_desc\n",
    "\n",
    "#=================================================================#\n",
    "#                    OPTIONAL SETTINGS                            #\n",
    "#=================================================================#\n",
    "\n",
    "\n",
    "#Heatmaps can have an optional Newick formatted tree assigned. Its leaf IDs must exactly match the dataset FIELD_LABELS.\n",
    "#The tree will be used to sort the dataset fields, and will be displayed above the dataset. It can have branch lengths defined.\n",
    "#All newlines and spaces should be stripped from the tree, and COMMA cannot be used as the dataset separator if a FIELD_TREE is provided.\n",
    "#FIELD_TREE (((f1:0.2,f5:0.5):1,(f2:0.2,f3:0.3):1.2):0.5,(f4:0.1,f6:0.5):0.8):1;\n",
    "\n",
    "\n",
    "\n",
    "#=================================================================#\n",
    "#     all other optional settings can be set or changed later     #\n",
    "#           in the web interface (under 'Datasets' tab)           #\n",
    "#=================================================================#\n",
    "\n",
    "#Each dataset can have a legend, which is defined using LEGEND_XXX fields below\n",
    "#For each row in the legend, there should be one shape, color and label.\n",
    "#Optionally, you can define an exact legend position using LEGEND_POSITION_X and LEGEND_POSITION_Y. To use automatic legend positioning, do NOT define these values\n",
    "#Optionally, shape scaling can be present (LEGEND_SHAPE_SCALES). For each shape, you can define a scaling factor between 0 and 1.\n",
    "#Shape should be a number between 1 and 6, or any protein domain shape definition.\n",
    "#1: square\n",
    "#2: circle\n",
    "#3: star\n",
    "#4: right pointing triangle\n",
    "#5: left pointing triangle\n",
    "#6: checkmark\n",
    "\n",
    "#LEGEND_TITLE,Dataset legend\n",
    "#LEGEND_POSITION_X,100\n",
    "#LEGEND_POSITION_Y,100\n",
    "#LEGEND_SHAPES,1,2,3\n",
    "#LEGEND_COLORS,#ff0000,#00ff00,#0000ff\n",
    "#LEGEND_LABELS,value1,value2,value3\n",
    "#LEGEND_SHAPE_SCALES,1,1,0.5\n",
    "\n",
    "#left margin, used to increase/decrease the spacing to the next dataset. Can be negative, causing datasets to overlap.\n",
    "#MARGIN 0\n",
    "\n",
    "#width of the individual boxes\n",
    "#STRIP_WIDTH 25\n",
    "\n",
    "#always show internal values; if set, values associated to internal nodes will be displayed even if these nodes are not collapsed. It could cause overlapping in the dataset display.\n",
    "#SHOW_INTERNAL 0\n",
    "\n",
    "\n",
    "#show dashed lines between leaf labels and the dataset\n",
    "#DASHED_LINES 1\n",
    "\n",
    "#if a FIELD_TREE is present, it can be hidden by setting this option to 0\n",
    "#SHOW_TREE 1\n",
    "\n",
    "#define the color for the NULL values in the dataset. Use the letter X in the data to define the NULL values\n",
    "#COLOR_NAN #000000\n",
    "\n",
    "#automatically create and display a legend based on the color gradients and values defined below\n",
    "#AUTO_LEGEND 1\n",
    "\n",
    "\n",
    "#define the heatmap gradient colors. Values in the dataset will be mapped onto the corresponding color gradient.\n",
    "COLOR_MIN #0000ff\n",
    "COLOR_MAX #ff0000\n",
    "\n",
    "#you can specify a gradient with three colors (e.g red to yellow to green) by setting 'USE_MID_COLOR' to 1, and specifying the midpoint color\n",
    "#USE_MID_COLOR 1\n",
    "#COLOR_MID #ffff00\n",
    "\n",
    "#By default, color gradients will be calculated based on dataset values. You can force different values to use in the calculation by setting the values below:\n",
    "#USER_MIN_VALUE 0\n",
    "#USER_MID_VALUE 500\n",
    "#USER_MAX_VALUE 1000\n",
    "\n",
    "#border width; if set above 0, a border of specified width (in pixels) will be drawn around individual cells\n",
    "#BORDER_WIDTH,0\n",
    "\n",
    "#border color; used only when BORDER_WIDTH is above 0\n",
    "#BORDER_COLOR,#0000ff\n",
    "\n",
    "\n",
    "#Internal tree nodes can be specified using IDs directly, or using the 'last common ancestor' method described in iTOL help pages\n",
    "#=================================================================#\n",
    "#       Actual data follows after the \"DATA\" keyword              #\n",
    "#=================================================================#\n",
    "DATA\\n\n",
    "\"\"\"\n",
    "fi.write(startstr)\n",
    "for node in synth_tips:\n",
    "    node_label = ret['label_map'][node].replace(' ','_')\n",
    "    desc = int(node_annotation[node]['total_descendents'])\n",
    "    if desc == 0:\n",
    "        val = -0.1\n",
    "    else:\n",
    "        val = math.log(desc, 10)\n",
    "    fi.write(\"{} {}\\n\".format(node_label, val))\n",
    "        \n",
    "fi.close()"
   ]
  },
  {
   "cell_type": "code",
   "execution_count": 38,
   "metadata": {},
   "outputs": [],
   "source": [
    "fi = open(\"descendent_heatmap.txt\", 'w')\n",
    "import math\n",
    "startstr = \"\"\"DATASET_HEATMAP\n",
    "#In heatmaps, each ID is associated to multiple numeric values, which are displayed as a set of colored boxes defined by a color gradient\n",
    "#lines starting with a hash are comments and ignored during parsing\n",
    "#=================================================================#\n",
    "#                    MANDATORY SETTINGS                           #\n",
    "#=================================================================#\n",
    "#select the separator which is used to delimit the data below (TAB,SPACE or COMMA).This separator must be used throughout this file (except in the SEPARATOR line, which uses space).\n",
    "#SEPARATOR TAB\n",
    "SEPARATOR SPACE\n",
    "#SEPARATOR COMMA\n",
    "\n",
    "#label is used in the legend table (can be changed later)\n",
    "DATASET_LABEL number_of_descendants\n",
    "\n",
    "#dataset color (can be changed later)\n",
    "COLOR #ff0000\n",
    "\n",
    "#define labels for each individual field column\n",
    "FIELD_LABELS number_desc\n",
    "\n",
    "#=================================================================#\n",
    "#                    OPTIONAL SETTINGS                            #\n",
    "#=================================================================#\n",
    "\n",
    "\n",
    "#Heatmaps can have an optional Newick formatted tree assigned. Its leaf IDs must exactly match the dataset FIELD_LABELS.\n",
    "#The tree will be used to sort the dataset fields, and will be displayed above the dataset. It can have branch lengths defined.\n",
    "#All newlines and spaces should be stripped from the tree, and COMMA cannot be used as the dataset separator if a FIELD_TREE is provided.\n",
    "#FIELD_TREE (((f1:0.2,f5:0.5):1,(f2:0.2,f3:0.3):1.2):0.5,(f4:0.1,f6:0.5):0.8):1;\n",
    "\n",
    "\n",
    "\n",
    "#=================================================================#\n",
    "#     all other optional settings can be set or changed later     #\n",
    "#           in the web interface (under 'Datasets' tab)           #\n",
    "#=================================================================#\n",
    "\n",
    "#Each dataset can have a legend, which is defined using LEGEND_XXX fields below\n",
    "#For each row in the legend, there should be one shape, color and label.\n",
    "#Optionally, you can define an exact legend position using LEGEND_POSITION_X and LEGEND_POSITION_Y. To use automatic legend positioning, do NOT define these values\n",
    "#Optionally, shape scaling can be present (LEGEND_SHAPE_SCALES). For each shape, you can define a scaling factor between 0 and 1.\n",
    "#Shape should be a number between 1 and 6, or any protein domain shape definition.\n",
    "#1: square\n",
    "#2: circle\n",
    "#3: star\n",
    "#4: right pointing triangle\n",
    "#5: left pointing triangle\n",
    "#6: checkmark\n",
    "\n",
    "#LEGEND_TITLE,Dataset legend\n",
    "#LEGEND_POSITION_X,100\n",
    "#LEGEND_POSITION_Y,100\n",
    "#LEGEND_SHAPES,1,2,3\n",
    "#LEGEND_COLORS,#ff0000,#00ff00,#0000ff\n",
    "#LEGEND_LABELS,value1,value2,value3\n",
    "#LEGEND_SHAPE_SCALES,1,1,0.5\n",
    "\n",
    "#left margin, used to increase/decrease the spacing to the next dataset. Can be negative, causing datasets to overlap.\n",
    "#MARGIN 0\n",
    "\n",
    "#width of the individual boxes\n",
    "#STRIP_WIDTH 25\n",
    "\n",
    "#always show internal values; if set, values associated to internal nodes will be displayed even if these nodes are not collapsed. It could cause overlapping in the dataset display.\n",
    "#SHOW_INTERNAL 0\n",
    "\n",
    "\n",
    "#show dashed lines between leaf labels and the dataset\n",
    "#DASHED_LINES 1\n",
    "\n",
    "#if a FIELD_TREE is present, it can be hidden by setting this option to 0\n",
    "#SHOW_TREE 1\n",
    "\n",
    "#define the color for the NULL values in the dataset. Use the letter X in the data to define the NULL values\n",
    "#COLOR_NAN #000000\n",
    "\n",
    "#automatically create and display a legend based on the color gradients and values defined below\n",
    "#AUTO_LEGEND 1\n",
    "\n",
    "\n",
    "#define the heatmap gradient colors. Values in the dataset will be mapped onto the corresponding color gradient.\n",
    "COLOR_MIN #0000ff\n",
    "COLOR_MAX #ff0000\n",
    "\n",
    "#you can specify a gradient with three colors (e.g red to yellow to green) by setting 'USE_MID_COLOR' to 1, and specifying the midpoint color\n",
    "#USE_MID_COLOR 1\n",
    "#COLOR_MID #ffff00\n",
    "\n",
    "#By default, color gradients will be calculated based on dataset values. You can force different values to use in the calculation by setting the values below:\n",
    "#USER_MIN_VALUE 0\n",
    "#USER_MID_VALUE 500\n",
    "#USER_MAX_VALUE 1000\n",
    "\n",
    "#border width; if set above 0, a border of specified width (in pixels) will be drawn around individual cells\n",
    "#BORDER_WIDTH,0\n",
    "\n",
    "#border color; used only when BORDER_WIDTH is above 0\n",
    "#BORDER_COLOR,#0000ff\n",
    "\n",
    "\n",
    "#Internal tree nodes can be specified using IDs directly, or using the 'last common ancestor' method described in iTOL help pages\n",
    "#=================================================================#\n",
    "#       Actual data follows after the \"DATA\" keyword              #\n",
    "#=================================================================#\n",
    "DATA\\n\n",
    "\"\"\"\n",
    "fi.write(startstr)\n",
    "for node in synth_tips:\n",
    "    node_label = ret['label_map'][node].replace(' ','_')\n",
    "    desc = int(node_annotation[node]['total_descendents'])\n",
    "    fi.write(\"{} {}\\n\".format(node_label, desc))\n",
    "        \n",
    "fi.close()"
   ]
  },
  {
   "cell_type": "markdown",
   "metadata": {},
   "source": [
    "## "
   ]
  }
 ],
 "metadata": {
  "kernelspec": {
   "display_name": "opentree",
   "language": "python",
   "name": "opentree"
  },
  "language_info": {
   "codemirror_mode": {
    "name": "ipython",
    "version": 3
   },
   "file_extension": ".py",
   "mimetype": "text/x-python",
   "name": "python",
   "nbconvert_exporter": "python",
   "pygments_lexer": "ipython3",
   "version": "3.7.3"
  }
 },
 "nbformat": 4,
 "nbformat_minor": 4
}
